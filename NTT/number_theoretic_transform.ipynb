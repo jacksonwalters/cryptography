{
 "cells": [
  {
   "cell_type": "code",
   "execution_count": 4,
   "id": "03256a19-b851-4fd4-9ba9-a8272699372c",
   "metadata": {},
   "outputs": [],
   "source": [
    "r\"\"\"\n",
    "This document seeks to implement polynomial multiplcation using the NTT (number theoretic transform) as \n",
    "\n",
    "NTT^{-1}(NTT(f(x)) \\circ NTT(g(x)))\n",
    "\n",
    "so we are just doing the forward NTT on each polynomial, performing the convolution, then taking the inverse.\n",
    "\"\"\";"
   ]
  },
  {
   "cell_type": "code",
   "execution_count": 7,
   "id": "ac7a8048-5f20-4e4b-9015-61a30b058b2e",
   "metadata": {},
   "outputs": [
    {
     "name": "stdout",
     "output_type": "stream",
     "text": [
      "9\n",
      "Original: [1, 2, 3, 4, 0, 0, 0, 0]\n",
      "NTT: [10, 16, 6, 11, 15, 13, 7, 15]\n",
      "Recovered: [1, 2, 3, 4, 0, 0, 0, 0]\n"
     ]
    }
   ],
   "source": [
    "# Finite field setup\n",
    "p = 17  # Prime modulus\n",
    "n = 8   # Size of the transform (must divide p-1)\n",
    "g = 3   # Primitive root modulo p\n",
    "\n",
    "# Compute n-th root of unity\n",
    "omega = pow(g, (p - 1) // n, p)\n",
    "\n",
    "# Polynomial coefficients as integers modulo p\n",
    "A = [1, 2, 3, 4, 0, 0, 0, 0]\n",
    "\n",
    "# Modular arithmetic functions\n",
    "def mod_add(a, b, p):\n",
    "    return (a + b) % p\n",
    "\n",
    "def mod_mul(a, b, p):\n",
    "    return (a * b) % p\n",
    "\n",
    "def mod_exp(base, exp, p):\n",
    "    return pow(base, exp, p)\n",
    "\n",
    "def mod_inv(a, p):\n",
    "    return pow(a, -1, p)\n",
    "\n",
    "# Forward transform using NTT\n",
    "def ntt(a, omega, n, p):\n",
    "    result = []\n",
    "    for k in range(n):\n",
    "        value = 0\n",
    "        for j in range(n):\n",
    "            value = mod_add(value, mod_mul(a[j], mod_exp(omega, j * k, p), p), p)\n",
    "        result.append(value)\n",
    "    return result\n",
    "\n",
    "# Inverse transform using INTT\n",
    "def intt(a, omega, n, p):\n",
    "    omega_inv = mod_inv(omega, p)\n",
    "    n_inv = mod_inv(n, p)\n",
    "    result = []\n",
    "    for k in range(n):\n",
    "        value = 0\n",
    "        for j in range(n):\n",
    "            value = mod_add(value, mod_mul(a[j], mod_exp(omega_inv, j * k, p), p), p)\n",
    "        result.append(mod_mul(value, n_inv, p))\n",
    "    return result\n",
    "\n",
    "# Perform forward and inverse transforms\n",
    "A_ntt = ntt(A, omega, n, p)\n",
    "A_recovered = intt(A_ntt, omega, n, p)\n",
    "\n",
    "# Output results\n",
    "print(\"Original:\", A)\n",
    "print(\"NTT:\", A_ntt)\n",
    "print(\"Recovered:\", A_recovered)\n"
   ]
  },
  {
   "cell_type": "code",
   "execution_count": 6,
   "id": "83d7dad8-7d2a-4cac-9b37-f880cb1aa3d7",
   "metadata": {},
   "outputs": [
    {
     "name": "stdout",
     "output_type": "stream",
     "text": [
      "Original sequence: [1, 2, 3, 4, 0, 0, 0, 0]\n",
      "NTT result: [10, 16, 6, 11, 15, 13, 7, 15]\n"
     ]
    }
   ],
   "source": [
    "from sympy.discrete.transforms import ntt\n",
    "from sympy import primerange\n",
    "\n",
    "# Example parameters\n",
    "seq = [1, 2, 3, 4, 0, 0, 0, 0]  # Input sequence (polynomial coefficients)\n",
    "prime = 17  # A prime number\n",
    "\n",
    "# Perform the Number Theoretic Transform\n",
    "result = ntt(seq, prime)\n",
    "\n",
    "print(\"Original sequence:\", seq)\n",
    "print(\"NTT result:\", result)"
   ]
  },
  {
   "cell_type": "code",
   "execution_count": 15,
   "id": "2026202b-167e-4b0c-82e9-9fd49011877a",
   "metadata": {},
   "outputs": [
    {
     "name": "stdout",
     "output_type": "stream",
     "text": [
      "Polynomial A (coefficients): [1 2 3 4]\n",
      "Polynomial B (coefficients): [5 6 7 8]\n",
      "Padded Polynomial A: [1 2 3 4 0 0 0 0]\n",
      "Padded Polynomial B: [5 6 7 8 0 0 0 0]\n",
      "NTT of A: [10 16  6 11 15 13  7 15]\n",
      "NTT of B: [ 9 15  6  8 15  7  7  7]\n",
      "Pointwise Product in NTT Domain: [ 5  2  2  3  4  6 15  3]\n",
      "Resultant Polynomial (from NTT): [ 5 16  0  9 10  1 15  0]\n",
      "Direct Polynomial Multiplication (mod p): [ 5 16  0  9 10  1 15]\n"
     ]
    }
   ],
   "source": [
    "import galois\n",
    "import numpy as np\n",
    "\n",
    "# Define a prime field GF(p)\n",
    "p = 17  # Choose a prime modulus\n",
    "galois_field = galois.GF(p)\n",
    "\n",
    "# Define input sequences over GF(p) as polynomial coefficients\n",
    "a = galois_field([1, 2, 3, 4])  # Polynomial A\n",
    "b = galois_field([5, 6, 7, 8])  # Polynomial B\n",
    "\n",
    "# Pad polynomials to the length of the NTT transform (next power of 2)\n",
    "n = 8  # Length of the NTT transform (could also be a power of 2, like 8)\n",
    "a_padded = np.pad(a, (0, n - len(a)), mode='constant', constant_values=0)\n",
    "b_padded = np.pad(b, (0, n - len(b)), mode='constant', constant_values=0)\n",
    "\n",
    "# Perform the Number Theoretic Transform (NTT)\n",
    "A = galois.ntt(a_padded, modulus=p)\n",
    "B = galois.ntt(b_padded, modulus=p)\n",
    "\n",
    "# Element-wise multiplication in the transformed domain\n",
    "C = A * B\n",
    "\n",
    "# Inverse NTT to retrieve the result in the original domain\n",
    "c_ntt = galois.intt(C, modulus=p)\n",
    "\n",
    "# Direct polynomial multiplication using numpy's polymul and modulo p\n",
    "c_direct = np.polymul(a, b) % p\n",
    "\n",
    "# Output the results\n",
    "print(\"Polynomial A (coefficients):\", a)\n",
    "print(\"Polynomial B (coefficients):\", b)\n",
    "print(\"Padded Polynomial A:\", a_padded)\n",
    "print(\"Padded Polynomial B:\", b_padded)\n",
    "print(\"NTT of A:\", A)\n",
    "print(\"NTT of B:\", B)\n",
    "print(\"Pointwise Product in NTT Domain:\", C)\n",
    "print(\"Resultant Polynomial (from NTT):\", c_ntt)\n",
    "print(\"Direct Polynomial Multiplication (mod p):\", c_direct)\n"
   ]
  },
  {
   "cell_type": "code",
   "execution_count": null,
   "id": "ae88bf88-c1d8-4d84-ba2f-b24cb107b3c9",
   "metadata": {},
   "outputs": [],
   "source": []
  }
 ],
 "metadata": {
  "kernelspec": {
   "display_name": "cryptography",
   "language": "python",
   "name": "cryptography"
  },
  "language_info": {
   "codemirror_mode": {
    "name": "ipython",
    "version": 3
   },
   "file_extension": ".py",
   "mimetype": "text/x-python",
   "name": "python",
   "nbconvert_exporter": "python",
   "pygments_lexer": "ipython3",
   "version": "3.13.1"
  }
 },
 "nbformat": 4,
 "nbformat_minor": 5
}
