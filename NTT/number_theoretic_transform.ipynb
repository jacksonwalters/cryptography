{
 "cells": [
  {
   "cell_type": "code",
   "execution_count": 2,
   "id": "03256a19-b851-4fd4-9ba9-a8272699372c",
   "metadata": {},
   "outputs": [],
   "source": [
    "\"\"\"\n",
    "This document seeks to implement polynomial multiplcation using the NTT (number theoretic transform) as \n",
    "\n",
    "NTT^{-1}(NTT(f(x)) \\circ NTT(g(x)))\n",
    "\n",
    "so we are just doing the forward NTT on each polynomial, performing the convolution, then taking the inverse.\n",
    "\"\"\";"
   ]
  },
  {
   "cell_type": "code",
   "execution_count": 1,
   "id": "ac7a8048-5f20-4e4b-9015-61a30b058b2e",
   "metadata": {},
   "outputs": [
    {
     "name": "stdout",
     "output_type": "stream",
     "text": [
      "Original: [1, 2, 3, 4, 0, 0, 0, 0]\n",
      "NTT: [10, 16, 6, 11, 15, 13, 7, 15]\n",
      "Recovered: [1, 2, 3, 4, 0, 0, 0, 0]\n"
     ]
    }
   ],
   "source": [
    "# Finite field setup\n",
    "p = 17\n",
    "F = GF(p)         # Finite field modulo p\n",
    "n = 8             # Size of the transform\n",
    "g = F(3)          # Primitive root of unity\n",
    "\n",
    "# Compute n-th root of unity\n",
    "omega = g**((p-1)//n)\n",
    "\n",
    "# Polynomial coefficients as elements of the field\n",
    "A = [F(1), F(2), F(3), F(4), F(0), F(0), F(0), F(0)]\n",
    "\n",
    "# Forward transform using DFT\n",
    "def ntt(a, omega, n):\n",
    "    return [sum(a[j] * omega**(j*k) for j in range(n)) for k in range(n)]\n",
    "\n",
    "# Inverse transform\n",
    "def intt(a, omega, n):\n",
    "    omega_inv = omega**-1\n",
    "    n_inv = F(n)**-1\n",
    "    return [sum(a[j] * omega_inv**(j*k) for j in range(n)) * n_inv for k in range(n)]\n",
    "\n",
    "# Perform forward and inverse transforms\n",
    "A_ntt = ntt(A, omega, n)\n",
    "A_recovered = intt(A_ntt, omega, n)\n",
    "\n",
    "print(\"Original:\", A)\n",
    "print(\"NTT:\", A_ntt)\n",
    "print(\"Recovered:\", A_recovered)\n"
   ]
  },
  {
   "cell_type": "code",
   "execution_count": 5,
   "id": "83d7dad8-7d2a-4cac-9b37-f880cb1aa3d7",
   "metadata": {},
   "outputs": [
    {
     "name": "stdout",
     "output_type": "stream",
     "text": [
      "Original sequence: [1, 2, 3, 4, 0, 0, 0, 0]\n",
      "NTT result: [10, 16, 6, 11, 15, 13, 7, 15]\n"
     ]
    }
   ],
   "source": [
    "from sympy.discrete.transforms import ntt\n",
    "from sympy import primerange\n",
    "\n",
    "# Example parameters\n",
    "seq = [1, 2, 3, 4, 0, 0, 0, 0]  # Input sequence (polynomial coefficients)\n",
    "prime = 17  # A prime number\n",
    "\n",
    "# Perform the Number Theoretic Transform\n",
    "result = ntt(seq, prime)\n",
    "\n",
    "print(\"Original sequence:\", seq)\n",
    "print(\"NTT result:\", result)"
   ]
  },
  {
   "cell_type": "code",
   "execution_count": null,
   "id": "a793baff-650a-468d-af78-7d5928cafae8",
   "metadata": {},
   "outputs": [],
   "source": []
  }
 ],
 "metadata": {
  "kernelspec": {
   "display_name": "SageMath 10.5",
   "language": "sage",
   "name": "sagemath-10.5"
  },
  "language_info": {
   "codemirror_mode": {
    "name": "ipython",
    "version": 3
   },
   "file_extension": ".py",
   "mimetype": "text/x-python",
   "name": "python",
   "nbconvert_exporter": "python",
   "pygments_lexer": "ipython3",
   "version": "3.12.5"
  }
 },
 "nbformat": 4,
 "nbformat_minor": 5
}
