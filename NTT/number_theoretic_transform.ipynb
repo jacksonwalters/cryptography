{
 "cells": [
  {
   "cell_type": "code",
   "execution_count": 2,
   "id": "03256a19-b851-4fd4-9ba9-a8272699372c",
   "metadata": {},
   "outputs": [],
   "source": [
    "\"\"\"\n",
    "This document seeks to implement polynomial multiplcation using the NTT (number theoretic transform) as \n",
    "\n",
    "NTT^{-1}(NTT(f(x)) \\circ NTT(g(x)))\n",
    "\n",
    "so we are just doing the forward NTT on each polynomial, performing the convolution, then taking the inverse.\n",
    "\"\"\";"
   ]
  },
  {
   "cell_type": "code",
   "execution_count": 2,
   "id": "ac7a8048-5f20-4e4b-9015-61a30b058b2e",
   "metadata": {},
   "outputs": [
    {
     "name": "stdout",
     "output_type": "stream",
     "text": [
      "Original: [1, 2, 3, 4, 0, 0, 0, 0]\n",
      "NTT: [10, 16, 6, 11, 15, 13, 7, 15]\n",
      "Recovered: [1, 2, 3, 4, 0, 0, 0, 0]\n"
     ]
    }
   ],
   "source": [
    "# Finite field setup\n",
    "p = 17  # Prime modulus\n",
    "n = 8   # Size of the transform (must divide p-1)\n",
    "g = 3   # Primitive root modulo p\n",
    "\n",
    "# Compute n-th root of unity\n",
    "omega = pow(g, (p - 1) // n, p)\n",
    "\n",
    "# Polynomial coefficients as integers modulo p\n",
    "A = [1, 2, 3, 4, 0, 0, 0, 0]\n",
    "\n",
    "# Modular arithmetic functions\n",
    "def mod_add(a, b, p):\n",
    "    return (a + b) % p\n",
    "\n",
    "def mod_mul(a, b, p):\n",
    "    return (a * b) % p\n",
    "\n",
    "def mod_exp(base, exp, p):\n",
    "    return pow(base, exp, p)\n",
    "\n",
    "def mod_inv(a, p):\n",
    "    return pow(a, -1, p)\n",
    "\n",
    "# Forward transform using NTT\n",
    "def ntt(a, omega, n, p):\n",
    "    result = []\n",
    "    for k in range(n):\n",
    "        value = 0\n",
    "        for j in range(n):\n",
    "            value = mod_add(value, mod_mul(a[j], mod_exp(omega, j * k, p), p), p)\n",
    "        result.append(value)\n",
    "    return result\n",
    "\n",
    "# Inverse transform using INTT\n",
    "def intt(a, omega, n, p):\n",
    "    omega_inv = mod_inv(omega, p)\n",
    "    n_inv = mod_inv(n, p)\n",
    "    result = []\n",
    "    for k in range(n):\n",
    "        value = 0\n",
    "        for j in range(n):\n",
    "            value = mod_add(value, mod_mul(a[j], mod_exp(omega_inv, j * k, p), p), p)\n",
    "        result.append(mod_mul(value, n_inv, p))\n",
    "    return result\n",
    "\n",
    "# Perform forward and inverse transforms\n",
    "A_ntt = ntt(A, omega, n, p)\n",
    "A_recovered = intt(A_ntt, omega, n, p)\n",
    "\n",
    "# Output results\n",
    "print(\"Original:\", A)\n",
    "print(\"NTT:\", A_ntt)\n",
    "print(\"Recovered:\", A_recovered)\n"
   ]
  },
  {
   "cell_type": "code",
   "execution_count": 2,
   "id": "83d7dad8-7d2a-4cac-9b37-f880cb1aa3d7",
   "metadata": {},
   "outputs": [
    {
     "name": "stdout",
     "output_type": "stream",
     "text": [
      "Original sequence: [1, 2, 3, 4, 0, 0, 0, 0]\n",
      "NTT result: [10, 16, 6, 11, 15, 13, 7, 15]\n"
     ]
    }
   ],
   "source": [
    "from sympy.discrete.transforms import ntt\n",
    "from sympy import primerange\n",
    "\n",
    "# Example parameters\n",
    "seq = [1, 2, 3, 4, 0, 0, 0, 0]  # Input sequence (polynomial coefficients)\n",
    "prime = 17  # A prime number\n",
    "\n",
    "# Perform the Number Theoretic Transform\n",
    "result = ntt(seq, prime)\n",
    "\n",
    "print(\"Original sequence:\", seq)\n",
    "print(\"NTT result:\", result)"
   ]
  },
  {
   "cell_type": "code",
   "execution_count": 2,
   "id": "a793baff-650a-468d-af78-7d5928cafae8",
   "metadata": {},
   "outputs": [
    {
     "name": "stdout",
     "output_type": "stream",
     "text": [
      "Polynomial A: [1 2 3 4]\n",
      "Polynomial B: [5 6 7 8]\n",
      "Transformed A: [10  6 15  7]\n",
      "Transformed B: [ 9  6 15  7]\n",
      "Pointwise Product in NTT Domain: [ 5  2  4 15]\n",
      "Resultant Polynomial (c): [15  0 15  9]\n"
     ]
    }
   ],
   "source": [
    "import galois\n",
    "\n",
    "# Define a prime field GF(p)\n",
    "p = 17  # Choose a prime modulus\n",
    "galois_field = galois.GF(p)\n",
    "\n",
    "# Define input sequences over GF(p)\n",
    "a = galois_field([1, 2, 3, 4])  # Polynomial coefficients\n",
    "b = galois_field([5, 6, 7, 8])\n",
    "\n",
    "# Perform the Number Theoretic Transform\n",
    "A = galois.ntt(a, modulus=p)\n",
    "B = galois.ntt(b, modulus=p)\n",
    "\n",
    "# Element-wise multiplication in the transformed domain\n",
    "C = A * B\n",
    "\n",
    "# Inverse NTT to retrieve the result in the time domain\n",
    "c = galois.intt(C, modulus=p)\n",
    "\n",
    "print(\"Polynomial A:\", a)\n",
    "print(\"Polynomial B:\", b)\n",
    "print(\"Transformed A:\", A)\n",
    "print(\"Transformed B:\", B)\n",
    "print(\"Pointwise Product in NTT Domain:\", C)\n",
    "print(\"Resultant Polynomial (c):\", c)\n"
   ]
  },
  {
   "cell_type": "code",
   "execution_count": null,
   "id": "2026202b-167e-4b0c-82e9-9fd49011877a",
   "metadata": {},
   "outputs": [],
   "source": []
  }
 ],
 "metadata": {
  "kernelspec": {
   "display_name": "cryptography",
   "language": "python",
   "name": "cryptography"
  },
  "language_info": {
   "codemirror_mode": {
    "name": "ipython",
    "version": 3
   },
   "file_extension": ".py",
   "mimetype": "text/x-python",
   "name": "python",
   "nbconvert_exporter": "python",
   "pygments_lexer": "ipython3",
   "version": "3.13.1"
  }
 },
 "nbformat": 4,
 "nbformat_minor": 5
}
