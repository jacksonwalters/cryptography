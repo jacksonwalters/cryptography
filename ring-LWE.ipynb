{
 "cells": [
  {
   "cell_type": "code",
   "execution_count": 2,
   "id": "ffa1875c-45c2-43a9-993b-98142c7b56f9",
   "metadata": {},
   "outputs": [],
   "source": [
    "#https://blog.openmined.org/build-an-homomorphic-encryption-scheme-from-scratch-with-python/"
   ]
  },
  {
   "cell_type": "code",
   "execution_count": 3,
   "id": "e3f723a3-ef20-42f9-bf16-9a5e913a7499",
   "metadata": {},
   "outputs": [],
   "source": [
    "import numpy as np\n",
    "from numpy.polynomial import polynomial as poly"
   ]
  },
  {
   "cell_type": "code",
   "execution_count": 4,
   "id": "48477691-1aa8-45f1-8f04-17c41807df72",
   "metadata": {},
   "outputs": [],
   "source": [
    "def parameters():\n",
    "    # polynomial modulus degree\n",
    "    n = 2**4\n",
    "    # ciphertext modulus\n",
    "    q = 2**15\n",
    "    # plaintext modulus\n",
    "    t = 2**8\n",
    "    # polynomial modulus\n",
    "    poly_mod = np.array([1] + [0] * (n - 1) + [1])\n",
    "    return (n,q,t,poly_mod)"
   ]
  },
  {
   "cell_type": "code",
   "execution_count": 5,
   "id": "bc57f95d-1de3-4ddf-882e-ec7014053842",
   "metadata": {},
   "outputs": [],
   "source": [
    "def polymul(x, y, modulus, poly_mod):\n",
    "    \"\"\"Add two polynoms\n",
    "    Args:\n",
    "        x, y: two polynoms to be added.\n",
    "        modulus: coefficient modulus.\n",
    "        poly_mod: polynomial modulus.\n",
    "    Returns:\n",
    "        A polynomial in Z_modulus[X]/(poly_mod).\n",
    "    \"\"\"\n",
    "    return np.int64(\n",
    "        np.round(poly.polydiv(poly.polymul(x, y) % modulus, poly_mod)[1] % modulus)\n",
    "    )"
   ]
  },
  {
   "cell_type": "code",
   "execution_count": 6,
   "id": "7951c529-c199-4321-a282-30dc50a64fbd",
   "metadata": {},
   "outputs": [],
   "source": [
    "def polyadd(x, y, modulus, poly_mod):\n",
    "    \"\"\"Multiply two polynoms\n",
    "    Args:\n",
    "        x, y: two polynoms to be multiplied.\n",
    "        modulus: coefficient modulus.\n",
    "        poly_mod: polynomial modulus.\n",
    "    Returns:\n",
    "        A polynomial in Z_modulus[X]/(poly_mod).\n",
    "    \"\"\"\n",
    "    return np.int64(\n",
    "        np.round(poly.polydiv(poly.polyadd(x, y) % modulus, poly_mod)[1] % modulus)\n",
    "    )"
   ]
  },
  {
   "cell_type": "code",
   "execution_count": 7,
   "id": "ce6956d6-8338-4eee-b644-cbb77d439aad",
   "metadata": {},
   "outputs": [],
   "source": [
    "def gen_binary_poly(size):\n",
    "    \"\"\"Generates a polynomial with coeffecients in [0, 1]\n",
    "    Args:\n",
    "        size: number of coeffcients, size-1 being the degree of the\n",
    "            polynomial.\n",
    "    Returns:\n",
    "        array of coefficients with the coeff[i] being \n",
    "        the coeff of x ^ i.\n",
    "    \"\"\"\n",
    "    return np.random.randint(0, 2, size, dtype=np.int64)"
   ]
  },
  {
   "cell_type": "code",
   "execution_count": 8,
   "id": "72d136c7-6d1a-405c-8b94-673783c7f26c",
   "metadata": {},
   "outputs": [],
   "source": [
    "def gen_uniform_poly(size, modulus):\n",
    "    \"\"\"Generates a polynomial with coeffecients being integers in Z_modulus\n",
    "    Args:\n",
    "        size: number of coeffcients, size-1 being the degree of the\n",
    "            polynomial.\n",
    "    Returns:\n",
    "        array of coefficients with the coeff[i] being \n",
    "        the coeff of x ^ i.\n",
    "    \"\"\"\n",
    "    return np.random.randint(0, modulus, size, dtype=np.int64)"
   ]
  },
  {
   "cell_type": "code",
   "execution_count": 9,
   "id": "38cfa83c-2f68-4a00-8b9c-4cd5a5647d58",
   "metadata": {},
   "outputs": [],
   "source": [
    "def gen_normal_poly(size):\n",
    "    \"\"\"Generates a polynomial with coeffecients in a normal distribution\n",
    "    of mean 0 and a standard deviation of 2, then discretize it.\n",
    "    Args:\n",
    "        size: number of coeffcients, size-1 being the degree of the\n",
    "            polynomial.\n",
    "    Returns:\n",
    "        array of coefficients with the coeff[i] being \n",
    "        the coeff of x ^ i.\n",
    "    \"\"\"\n",
    "    return np.int64(np.random.normal(0, 2, size=size))"
   ]
  },
  {
   "cell_type": "code",
   "execution_count": 10,
   "id": "1f266437-d52d-48b2-9ef9-e5c2eec17990",
   "metadata": {},
   "outputs": [],
   "source": [
    "def keygen(size, modulus, poly_mod):\n",
    "    \"\"\"Generate a public and secret keys\n",
    "    Args:\n",
    "        size: size of the polynoms for the public and secret keys.\n",
    "        modulus: coefficient modulus.\n",
    "        poly_mod: polynomial modulus.\n",
    "    Returns:\n",
    "        Public and secret key.\n",
    "    \"\"\"\n",
    "    sk = gen_binary_poly(size)\n",
    "    a = gen_uniform_poly(size, modulus)\n",
    "    e = gen_normal_poly(size)\n",
    "    b = polyadd(polymul(-a, sk, modulus, poly_mod), -e, modulus, poly_mod)\n",
    "    return (b, a), sk"
   ]
  },
  {
   "cell_type": "code",
   "execution_count": 11,
   "id": "46abff76-712f-4c7d-933e-c02bd21fb192",
   "metadata": {},
   "outputs": [],
   "source": [
    "def encrypt(pk, size, q, t, poly_mod, pt):\n",
    "    \"\"\"Encrypt an integer.\n",
    "    Args:\n",
    "        pk: public-key.\n",
    "        size: size of polynomials.\n",
    "        q: ciphertext modulus.\n",
    "        t: plaintext modulus.\n",
    "        poly_mod: polynomial modulus.\n",
    "        pt: integer to be encrypted.\n",
    "    Returns:\n",
    "        Tuple representing a ciphertext.      \n",
    "    \"\"\"\n",
    "    # encode the integer into a plaintext polynomial\n",
    "    m = np.array([pt] + [0] * (size - 1), dtype=np.int64) % t\n",
    "    delta = q // t\n",
    "    scaled_m = delta * m  % q\n",
    "    e1 = gen_normal_poly(size)\n",
    "    e2 = gen_normal_poly(size)\n",
    "    u = gen_binary_poly(size)\n",
    "    ct0 = polyadd(\n",
    "            polyadd(\n",
    "                polymul(pk[0], u, q, poly_mod),\n",
    "                e1, q, poly_mod),\n",
    "            scaled_m, q, poly_mod\n",
    "        )\n",
    "    ct1 = polyadd(\n",
    "            polymul(pk[1], u, q, poly_mod),\n",
    "            e2, q, poly_mod\n",
    "        )\n",
    "    return (ct0, ct1)"
   ]
  },
  {
   "cell_type": "code",
   "execution_count": 12,
   "id": "1974776e-2774-4321-a739-bfebccf37b0d",
   "metadata": {},
   "outputs": [],
   "source": [
    "def decrypt(sk, size, q, t, poly_mod, ct):\n",
    "    \"\"\"Decrypt a ciphertext\n",
    "    Args:\n",
    "        sk: secret-key.\n",
    "        size: size of polynomials.\n",
    "        q: ciphertext modulus.\n",
    "        t: plaintext modulus.\n",
    "        poly_mod: polynomial modulus.\n",
    "        ct: ciphertext.\n",
    "    Returns:\n",
    "        Integer representing the plaintext.\n",
    "    \"\"\"\n",
    "    scaled_pt = polyadd(\n",
    "            polymul(ct[1], sk, q, poly_mod),\n",
    "            ct[0], q, poly_mod\n",
    "        )\n",
    "    decrypted_poly = np.round(scaled_pt * t / q) % t\n",
    "    return int(decrypted_poly[0])"
   ]
  },
  {
   "cell_type": "code",
   "execution_count": 13,
   "id": "efe95f9f-a403-481c-aa62-a0cb897fe089",
   "metadata": {},
   "outputs": [],
   "source": [
    "def add_plain(ct, pt, q, t, poly_mod):\n",
    "    \"\"\"Add a ciphertext and a plaintext.\n",
    "    Args:\n",
    "        ct: ciphertext.\n",
    "        pt: integer to add.\n",
    "        q: ciphertext modulus.\n",
    "        t: plaintext modulus.\n",
    "        poly_mod: polynomial modulus.\n",
    "    Returns:\n",
    "        Tuple representing a ciphertext.\n",
    "    \"\"\"\n",
    "    size = len(poly_mod) - 1\n",
    "    # encode the integer into a plaintext polynomial\n",
    "    m = np.array([pt] + [0] * (size - 1), dtype=np.int64) % t\n",
    "    delta = q // t\n",
    "    scaled_m = delta * m  % q\n",
    "    new_ct0 = polyadd(ct[0], scaled_m, q, poly_mod)\n",
    "    return (new_ct0, ct[1])"
   ]
  },
  {
   "cell_type": "code",
   "execution_count": 14,
   "id": "accbdb86-50a8-4f7c-bfa7-c98c5607fe13",
   "metadata": {},
   "outputs": [],
   "source": [
    "def mul_plain(ct, pt, q, t, poly_mod):\n",
    "    \"\"\"Multiply a ciphertext and a plaintext.\n",
    "    Args:\n",
    "        ct: ciphertext.\n",
    "        pt: integer to multiply.\n",
    "        q: ciphertext modulus.\n",
    "        t: plaintext modulus.\n",
    "        poly_mod: polynomial modulus.\n",
    "    Returns:\n",
    "        Tuple representing a ciphertext.\n",
    "    \"\"\"\n",
    "    size = len(poly_mod) - 1\n",
    "    # encode the integer into a plaintext polynomial\n",
    "    m = np.array([pt] + [0] * (size - 1), dtype=np.int64) % t\n",
    "    new_c0 = polymul(ct[0], m, q, poly_mod)\n",
    "    new_c1 = polymul(ct[1], m, q, poly_mod)\n",
    "    return (new_c0, new_c1)"
   ]
  },
  {
   "cell_type": "code",
   "execution_count": 15,
   "id": "4f5e6719-a460-4fd6-b33e-9ee082e5b6d7",
   "metadata": {},
   "outputs": [
    {
     "name": "stdout",
     "output_type": "stream",
     "text": [
      "{'secret': [1, 1, 0, 0, 1, 1, 1, 1, 1, 1, 1, 0, 1, 0, 1, 0], 'public_b': [3124, 11873, 24822, 7901, 20142, 26923, 15857, 23120, 19277, 15740, 14009, 19312, 16600, 22627, 8743, 7154], 'public_a': [24486, 24183, 12006, 28270, 29003, 17199, 32045, 20153, 9363, 15871, 7489, 9614, 2913, 15207, 5041, 20226]}\n",
      "[+] Ciphertext ct1(73):\n",
      "\n",
      "\t ct1_0: [12323 28885 20122 25658 23036 12702  2223 13699  2144 14048 21040 25329\n",
      "  2580 17801  4055  6964]\n",
      "\t ct1_1: [ 8256  8718   304  3972 10936 30943  4567  3839 28454 14745 25746 19401\n",
      " 24369 25472  6541  9964]\n",
      "\n",
      "[+] Ciphertext ct2(20):\n",
      "\n",
      "\t ct2_0: [12981  7490 22486  6215 32426 19351 28440 22063 21977 28619   801 31745\n",
      " 16338 30385 21575  4873]\n",
      "\t ct2_1: [ 5551 14068 26693 32335  3005 30213 27605 23390 17806 16508 28382 11447\n",
      " 28161  2707 25935 29577]\n",
      "\n",
      "[+] Decrypted ct3=(ct1 + 7): 80\n",
      "[+] Decrypted ct4=(ct2 * 5): 100\n"
     ]
    }
   ],
   "source": [
    "n, q, t, poly_mod = parameters()\n",
    "# Keygen\n",
    "pk, sk = keygen(n, q, poly_mod)\n",
    "keys = {\"secret\":sk.tolist(), \"public_b\":pk[0].tolist(), \"public_a\":pk[1].tolist()}\n",
    "import json\n",
    "json.dumps(keys)\n",
    "print(keys)\n",
    "# Encryption\n",
    "pt1, pt2 = 73, 20\n",
    "cst1, cst2 = 7, 5\n",
    "ct1 = encrypt(pk, n, q, t, poly_mod, pt1)\n",
    "ct2 = encrypt(pk, n, q, t, poly_mod, pt2)\n",
    "\n",
    "print(\"[+] Ciphertext ct1({}):\".format(pt1))\n",
    "print(\"\")\n",
    "print(\"\\t ct1_0:\", ct1[0])\n",
    "print(\"\\t ct1_1:\", ct1[1])\n",
    "print(\"\")\n",
    "print(\"[+] Ciphertext ct2({}):\".format(pt2))\n",
    "print(\"\")\n",
    "print(\"\\t ct2_0:\", ct2[0])\n",
    "print(\"\\t ct2_1:\", ct2[1])\n",
    "print(\"\")\n",
    "\n",
    "# Evaluation\n",
    "ct3 = add_plain(ct1, cst1, q, t, poly_mod)\n",
    "ct4 = mul_plain(ct2, cst2, q, t, poly_mod)\n",
    "\n",
    "# Decryption\n",
    "decrypted_ct3 = decrypt(sk, n, q, t, poly_mod, ct3)\n",
    "decrypted_ct4 = decrypt(sk, n, q, t, poly_mod, ct4)\n",
    "\n",
    "print(\"[+] Decrypted ct3=(ct1 + {}): {}\".format(cst1, decrypted_ct3))\n",
    "print(\"[+] Decrypted ct4=(ct2 * {}): {}\".format(cst2, decrypted_ct4))"
   ]
  }
 ],
 "metadata": {
  "kernelspec": {
   "display_name": "venv-crypto",
   "language": "python",
   "name": "venv-crypto"
  },
  "language_info": {
   "codemirror_mode": {
    "name": "ipython",
    "version": 3
   },
   "file_extension": ".py",
   "mimetype": "text/x-python",
   "name": "python",
   "nbconvert_exporter": "python",
   "pygments_lexer": "ipython3",
   "version": "3.10.0"
  }
 },
 "nbformat": 4,
 "nbformat_minor": 5
}
