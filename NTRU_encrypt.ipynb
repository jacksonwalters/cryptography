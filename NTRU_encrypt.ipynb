{
 "cells": [
  {
   "cell_type": "code",
   "execution_count": 57,
   "id": "a67a05f0-6715-4ea2-8317-327abab91c9a",
   "metadata": {},
   "outputs": [],
   "source": [
    "#notebook of examples for the NTRU encrypt scheme. \n",
    "#see pp. 490-494 Hoffstein, Pipher, Silverman, An Introduction to Mathematical Cryptography"
   ]
  },
  {
   "cell_type": "code",
   "execution_count": 163,
   "id": "527dce82-ec3d-4162-95f6-e528714f38eb",
   "metadata": {},
   "outputs": [],
   "source": [
    "#define the parameters\n",
    "N=5; p=3; q=32; d=1\n",
    "assert N.is_prime()\n",
    "assert p.is_prime()\n",
    "assert gcd(N,q) == 1 \n",
    "assert gcd(p,q) == 1\n",
    "assert q > (6*d+1)*p"
   ]
  },
  {
   "cell_type": "code",
   "execution_count": 164,
   "id": "6d386d0b-d52e-43f3-8874-bffdfe88f295",
   "metadata": {},
   "outputs": [
    {
     "data": {
      "text/plain": [
       "Univariate Quotient Polynomial Ring in xbar over Integer Ring with modulus x^5 - 1"
      ]
     },
     "execution_count": 164,
     "metadata": {},
     "output_type": "execute_result"
    }
   ],
   "source": [
    "#create the polynomial ring \\Z[x]/(x^N-1)\n",
    "P.<x> = PolynomialRing(ZZ)\n",
    "R = P.quotient(x^N-1); R"
   ]
  },
  {
   "cell_type": "code",
   "execution_count": 165,
   "id": "7ebb78fd-2e4d-4adf-b8a3-f519fdb1444d",
   "metadata": {},
   "outputs": [
    {
     "data": {
      "text/plain": [
       "Univariate Quotient Polynomial Ring in xbar over Finite Field of size 3 with modulus x^5 + 2"
      ]
     },
     "execution_count": 165,
     "metadata": {},
     "output_type": "execute_result"
    }
   ],
   "source": [
    "#create the quotient polynomial ring \\Z_p[x]/(x^N-1)\n",
    "P_p.<x> = PolynomialRing(GF(p))\n",
    "R_p = P_p.quotient(x^N - 1); R_p"
   ]
  },
  {
   "cell_type": "code",
   "execution_count": 166,
   "id": "efbc1c14-9733-443e-9b09-2783b3e3e3f4",
   "metadata": {},
   "outputs": [
    {
     "data": {
      "text/plain": [
       "Univariate Quotient Polynomial Ring in xbar over Finite Field in z5 of size 2^5 with modulus x^5 + 1"
      ]
     },
     "execution_count": 166,
     "metadata": {},
     "output_type": "execute_result"
    }
   ],
   "source": [
    "#create the quotient polynomial ring \\Z_q[x]/(x^N-1)\n",
    "P_q.<x> = PolynomialRing(GF(q))\n",
    "R_q = P_q.quotient(x^N - 1); R_q"
   ]
  },
  {
   "cell_type": "code",
   "execution_count": 167,
   "id": "ea0f446d-ff94-401c-afeb-9fb16d52a202",
   "metadata": {},
   "outputs": [
    {
     "data": {
      "text/plain": [
       "-xbar^2 + xbar + 1"
      ]
     },
     "execution_count": 167,
     "metadata": {},
     "output_type": "execute_result"
    }
   ],
   "source": [
    "#define the polynomial f(x). f(x) \\in \\mathcal{T}(d+1,d), i.e. is a ternary polynomial\n",
    "#so has d+1 coeffs = 1, d coeffs = -1, all other coeffs = 0\n",
    "f = R([1,1,-1,0,0]); f"
   ]
  },
  {
   "cell_type": "code",
   "execution_count": 168,
   "id": "5dedf85a-8f66-4842-ab13-eb03243c8870",
   "metadata": {},
   "outputs": [
    {
     "data": {
      "text/plain": [
       "2*xbar^2 + xbar + 1"
      ]
     },
     "execution_count": 168,
     "metadata": {},
     "output_type": "execute_result"
    }
   ],
   "source": [
    "R_p(f)"
   ]
  },
  {
   "cell_type": "code",
   "execution_count": 170,
   "id": "b6c4b580-723f-4f5f-bc6b-f3d17218aed6",
   "metadata": {},
   "outputs": [
    {
     "data": {
      "text/plain": [
       "-xbar^2 + xbar"
      ]
     },
     "execution_count": 170,
     "metadata": {},
     "output_type": "execute_result"
    }
   ],
   "source": [
    "g = R([0,1,-1,0,0]); g"
   ]
  },
  {
   "cell_type": "code",
   "execution_count": 171,
   "id": "dcac149e-9e39-43ea-bb0e-41741b1863b7",
   "metadata": {},
   "outputs": [
    {
     "data": {
      "text/plain": [
       "2*xbar^2 + xbar"
      ]
     },
     "execution_count": 171,
     "metadata": {},
     "output_type": "execute_result"
    }
   ],
   "source": [
    "R_p(g)"
   ]
  },
  {
   "cell_type": "code",
   "execution_count": 151,
   "id": "ba1fef9d-c66f-469d-9884-50e04a337617",
   "metadata": {},
   "outputs": [
    {
     "data": {
      "text/plain": [
       "1"
      ]
     },
     "execution_count": 151,
     "metadata": {},
     "output_type": "execute_result"
    }
   ],
   "source": [
    "f_inv = R_p(f)^(-1); f_inv"
   ]
  },
  {
   "cell_type": "code",
   "execution_count": null,
   "id": "847d3475-4010-44b8-bb2a-953e94dea109",
   "metadata": {},
   "outputs": [],
   "source": [
    "\n",
    "fq1 = QQ1(f) ^ -1\n",
    "fq2 = QQ2(f) ^ -1\n",
    "assert fp * f == 1\n",
    "assert fq1 * f == 1\n",
    "assert fq2 * f == 1"
   ]
  },
  {
   "cell_type": "code",
   "execution_count": null,
   "id": "e8e62de2-4fc4-47c4-a5fa-760aec539cd0",
   "metadata": {},
   "outputs": [],
   "source": [
    "#define the public key using f(x) (mod p), g(x) (mod p)\n",
    "def public_key(f,g,q):\n",
    "    \n",
    "    return "
   ]
  }
 ],
 "metadata": {
  "kernelspec": {
   "display_name": "SageMath 10.4",
   "language": "sage",
   "name": "sagemath-10.4"
  },
  "language_info": {
   "codemirror_mode": {
    "name": "ipython",
    "version": 3
   },
   "file_extension": ".py",
   "mimetype": "text/x-python",
   "name": "python",
   "nbconvert_exporter": "python",
   "pygments_lexer": "ipython3",
   "version": "3.12.4"
  }
 },
 "nbformat": 4,
 "nbformat_minor": 5
}
