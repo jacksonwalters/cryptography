{
 "cells": [
  {
   "cell_type": "code",
   "execution_count": 1,
   "id": "a67a05f0-6715-4ea2-8317-327abab91c9a",
   "metadata": {},
   "outputs": [],
   "source": [
    "#notebook of examples for the NTRU encrypt scheme. \n",
    "#see pp. 503-507 Hoffstein, Pipher, Silverman, An Introduction to Mathematical Cryptography"
   ]
  },
  {
   "cell_type": "code",
   "execution_count": null,
   "id": "dc9e140e-00f5-49a5-b40a-811857c2bd73",
   "metadata": {},
   "outputs": [],
   "source": []
  }
 ],
 "metadata": {
  "kernelspec": {
   "display_name": "Python 3 (ipykernel)",
   "language": "python",
   "name": "python3"
  },
  "language_info": {
   "codemirror_mode": {
    "name": "ipython",
    "version": 3
   },
   "file_extension": ".py",
   "mimetype": "text/x-python",
   "name": "python",
   "nbconvert_exporter": "python",
   "pygments_lexer": "ipython3",
   "version": "3.9.6"
  }
 },
 "nbformat": 4,
 "nbformat_minor": 5
}
