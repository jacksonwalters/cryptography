{
 "cells": [
  {
   "cell_type": "code",
   "execution_count": 66,
   "id": "a67a05f0-6715-4ea2-8317-327abab91c9a",
   "metadata": {},
   "outputs": [],
   "source": [
    "#implementation of the NTRU encryption scheme\n",
    "#see pp. \\S 7.10 and pp. 490-494 Hoffstein, Pipher, Silverman, An Introduction to Mathematical Cryptography\n",
    "#follow example 7.53 in [HPS]"
   ]
  },
  {
   "cell_type": "code",
   "execution_count": 67,
   "id": "527dce82-ec3d-4162-95f6-e528714f38eb",
   "metadata": {},
   "outputs": [],
   "source": [
    "#define the parameters\n",
    "N=7; p=3; q=41; d=2\n",
    "assert N.is_prime()\n",
    "assert p.is_prime()\n",
    "assert gcd(N,q) == 1 \n",
    "assert gcd(p,q) == 1\n",
    "assert q > (6*d+1)*p"
   ]
  },
  {
   "cell_type": "code",
   "execution_count": 68,
   "id": "6d386d0b-d52e-43f3-8874-bffdfe88f295",
   "metadata": {},
   "outputs": [
    {
     "data": {
      "text/plain": [
       "Univariate Quotient Polynomial Ring in xbar over Integer Ring with modulus x^7 - 1"
      ]
     },
     "execution_count": 68,
     "metadata": {},
     "output_type": "execute_result"
    }
   ],
   "source": [
    "#create the polynomial ring \\Z[x]/(x^N-1)\n",
    "P.<x> = PolynomialRing(ZZ)\n",
    "R = P.quotient(x^N-1); R"
   ]
  },
  {
   "cell_type": "code",
   "execution_count": 69,
   "id": "2f582348-3042-4013-8ca0-77b57241632c",
   "metadata": {},
   "outputs": [],
   "source": [
    "#a ternary polynomial in R = \\Z[x]/(x^N-1) has d1 coeffs = +1, d2 coeffs = -1\n",
    "def is_ternary(a,d1,d2):\n",
    "    assert a in R\n",
    "    return list(a).count(+1) == d1 and list(a).count(-1) == d2"
   ]
  },
  {
   "cell_type": "code",
   "execution_count": 70,
   "id": "7ebb78fd-2e4d-4adf-b8a3-f519fdb1444d",
   "metadata": {},
   "outputs": [
    {
     "data": {
      "text/plain": [
       "Univariate Quotient Polynomial Ring in xbar over Finite Field of size 3 with modulus x^7 + 2"
      ]
     },
     "execution_count": 70,
     "metadata": {},
     "output_type": "execute_result"
    }
   ],
   "source": [
    "#create the quotient polynomial ring \\Z_p[x]/(x^N-1)\n",
    "P_p.<x> = PolynomialRing(GF(p))\n",
    "R_p = P_p.quotient(x^N - 1); R_p"
   ]
  },
  {
   "cell_type": "code",
   "execution_count": 71,
   "id": "efbc1c14-9733-443e-9b09-2783b3e3e3f4",
   "metadata": {},
   "outputs": [
    {
     "data": {
      "text/plain": [
       "Univariate Quotient Polynomial Ring in xbar over Finite Field of size 41 with modulus x^7 + 40"
      ]
     },
     "execution_count": 71,
     "metadata": {},
     "output_type": "execute_result"
    }
   ],
   "source": [
    "#create the quotient polynomial ring \\Z_q[x]/(x^N-1)\n",
    "P_q.<x> = PolynomialRing(GF(q))\n",
    "R_q = P_q.quotient(x^N - 1); R_q"
   ]
  },
  {
   "cell_type": "code",
   "execution_count": 72,
   "id": "60a01eee-20e2-4821-82e5-8b8c3c9ba04d",
   "metadata": {},
   "outputs": [],
   "source": [
    "homomorphic_encryption = True"
   ]
  },
  {
   "cell_type": "code",
   "execution_count": 73,
   "id": "ea0f446d-ff94-401c-afeb-9fb16d52a202",
   "metadata": {},
   "outputs": [
    {
     "name": "stdout",
     "output_type": "stream",
     "text": [
      "3*xbar^6 + 3*xbar^5 + 3*xbar^4 + 3*xbar^3 + 6*xbar^2 + 3*xbar + 1\n",
      "1\n",
      "3*xbar^6 + 3*xbar^5 + 3*xbar^4 + 3*xbar^3 + 6*xbar^2 + 3*xbar + 1\n"
     ]
    }
   ],
   "source": [
    "#define the polynomial f(x). f(x) \\in \\mathcal{T}(d+1,d), i.e. is a ternary polynomial\n",
    "#so has d+1 coeffs = 1, d coeffs = -1, all other coeffs = 0\n",
    "if homomorphic_encryption:\n",
    "    f = R([1,p,2*p,p,p,p,p])\n",
    "    assert R_p(f) == 1\n",
    "else:\n",
    "    f = R([-1,0,1,1,-1,0,1])\n",
    "    assert is_ternary(f,d+1,d)\n",
    "print(f)\n",
    "print(R_p(f))\n",
    "print(R_q(f))"
   ]
  },
  {
   "cell_type": "code",
   "execution_count": 74,
   "id": "b6c4b580-723f-4f5f-bc6b-f3d17218aed6",
   "metadata": {},
   "outputs": [
    {
     "name": "stdout",
     "output_type": "stream",
     "text": [
      "3*xbar^6 + 3*xbar^5 + 3*xbar^4 + 3*xbar^3 + 3*xbar^2 + 3*xbar\n",
      "0\n",
      "3*xbar^6 + 3*xbar^5 + 3*xbar^4 + 3*xbar^3 + 3*xbar^2 + 3*xbar\n"
     ]
    }
   ],
   "source": [
    "#define the polynomial g(x). g(x) \\in \\mathcal{T}(d,d), i.e. is a ternary polynomial\n",
    "#so has d coeffs = 1, d coeffs = -1, all other coeffs = 0\n",
    "if homomorphic_encryption:\n",
    "    g = R([0,p,p,p,p,p,p])\n",
    "    assert R_p(g) == 0\n",
    "else:\n",
    "    g = R([0,-1,-1,0,1,0,1])\n",
    "    assert is_ternary(g,d,d)\n",
    "print(g)\n",
    "print(R_p(g))\n",
    "print(R_q(g))"
   ]
  },
  {
   "cell_type": "code",
   "execution_count": 75,
   "id": "ba1fef9d-c66f-469d-9884-50e04a337617",
   "metadata": {},
   "outputs": [
    {
     "name": "stdout",
     "output_type": "stream",
     "text": [
      "1\n"
     ]
    }
   ],
   "source": [
    "#compute F_p(x) = f(x)^{-1} (mod p)\n",
    "F_p = R_p(f)^(-1); print(F_p)\n",
    "assert F_p * R_p(f) == 1"
   ]
  },
  {
   "cell_type": "code",
   "execution_count": 76,
   "id": "fa5340b0-a20a-4089-af8a-51acf8749224",
   "metadata": {},
   "outputs": [
    {
     "name": "stdout",
     "output_type": "stream",
     "text": [
      "22*xbar^6 + 38*xbar^5 + 14*xbar^4 + 11*xbar^3 + 36*xbar^2 + 34*xbar + 37\n"
     ]
    }
   ],
   "source": [
    "#compute F_q(x) = f(x)^{-1} (mod q)\n",
    "F_q = R_q(f)^(-1); print(F_q)\n",
    "assert F_q * R_q(f) == 1"
   ]
  },
  {
   "cell_type": "code",
   "execution_count": 77,
   "id": "fd7fbaac-da40-41f8-8a3f-2860bccebbcf",
   "metadata": {},
   "outputs": [],
   "source": [
    "#define the private key used to decrypt messages\n",
    "def private_key(f):\n",
    "    return (f,R_q(f)^(-1))"
   ]
  },
  {
   "cell_type": "code",
   "execution_count": 78,
   "id": "e8e62de2-4fc4-47c4-a5fa-760aec539cd0",
   "metadata": {},
   "outputs": [],
   "source": [
    "#define the public key using f(x) (mod p), g(x) (mod p)\n",
    "def public_key(f,g,q):\n",
    "    F_q = R_q(f)^(-1)\n",
    "    return F_q * R_q(g)"
   ]
  },
  {
   "cell_type": "code",
   "execution_count": 79,
   "id": "96d9a485-a85d-49b0-8280-ac23d227c464",
   "metadata": {},
   "outputs": [
    {
     "name": "stdout",
     "output_type": "stream",
     "text": [
      "18*xbar^6 + 11*xbar^5 + xbar^4 + 10*xbar^3 + 17*xbar^2 + 23*xbar + 14\n"
     ]
    }
   ],
   "source": [
    "print(public_key(f,g,q))"
   ]
  },
  {
   "cell_type": "code",
   "execution_count": 80,
   "id": "dc6fe9d3-1f79-43b0-bd6f-6f67ba9a2974",
   "metadata": {},
   "outputs": [],
   "source": [
    "#define a plaintext message m(x) with coefficients satisfying -p/2 < m_i <= p/2\n",
    "#i.e. m is the center lift of a polynomial in R_p\n",
    "def plaintext(message,p,N):\n",
    "    assert all([-p/2 < message[i] <= +p/2 for i in range(N)])\n",
    "    return R(message)"
   ]
  },
  {
   "cell_type": "code",
   "execution_count": 81,
   "id": "46b2a9e0-b3dc-426b-86e4-608859575b04",
   "metadata": {},
   "outputs": [],
   "source": [
    "#choose a random element of \\mathcal{T}(d,d)\n",
    "def rand_r(N,d):\n",
    "    coeffs = (N-2*d)*[0] + d*[+1] + d*[-1]\n",
    "    sigma = Permutations(N).random_element()\n",
    "    r = R([coeffs[sigma[i]-1] for i in range(N)])\n",
    "    assert is_ternary(r,d,d)\n",
    "    return r"
   ]
  },
  {
   "cell_type": "code",
   "execution_count": 82,
   "id": "0f9149d7-0743-4380-8fc6-3af6372c97d6",
   "metadata": {},
   "outputs": [],
   "source": [
    "#compute the ciphertext e(x)\n",
    "def ciphertext(message,f,g,r,p,q,N,d):\n",
    "    h = public_key(f,g,q)\n",
    "    m = plaintext(message,p,N)\n",
    "    e = R_q(p*h*r + m)\n",
    "    return e"
   ]
  },
  {
   "cell_type": "code",
   "execution_count": 83,
   "id": "71230a75-7f0a-4eac-8a3d-a872042f6206",
   "metadata": {},
   "outputs": [],
   "source": [
    "#begin decryption process\n",
    "def a(f,e):\n",
    "    return R_q(f*e)"
   ]
  },
  {
   "cell_type": "code",
   "execution_count": 84,
   "id": "9c4fc63b-c141-4b55-9e2d-43d54c373794",
   "metadata": {},
   "outputs": [],
   "source": [
    "#define the center lift of a from R_q to an element of R = \\Z[x]/(x^N-1)\n",
    "#map coefficients from F_q to Z/qZ (the additive group) and center lift them to \\Z\n",
    "def center_lift(a,modulus):\n",
    "    return R([Zmod(modulus)(coeff).lift_centered() for coeff in list(a)])"
   ]
  },
  {
   "cell_type": "code",
   "execution_count": 85,
   "id": "74e5ce4a-ab0a-4815-91b1-11ac2d374adb",
   "metadata": {},
   "outputs": [],
   "source": [
    "#compute b(x) = F_p(x) * a(x) (mod p) by first center lifting a(x) to R\n",
    "def b(f,a,q):\n",
    "    F_p = R_p(f)^(-1)\n",
    "    return R_p(F_p * center_lift(a,q))"
   ]
  },
  {
   "cell_type": "code",
   "execution_count": 86,
   "id": "c6d5d86a-f2c8-4af2-aab1-a264bc6fb782",
   "metadata": {},
   "outputs": [],
   "source": [
    "#define the final center_lift for decryption where e = ciphertext, f = secret key, p = prime, q = modulus\n",
    "def decrypt(e,f,p,q):\n",
    "    return center_lift(b(f,a(f,e),q),p)"
   ]
  },
  {
   "cell_type": "code",
   "execution_count": 87,
   "id": "00dabb30-ebd5-4144-a61d-5ad47da16a35",
   "metadata": {},
   "outputs": [],
   "source": [
    "#EXAMPLES"
   ]
  },
  {
   "cell_type": "code",
   "execution_count": 88,
   "id": "8c6ac1de-73b2-41aa-9044-4e18ef2b7063",
   "metadata": {},
   "outputs": [
    {
     "data": {
      "text/plain": [
       "-xbar^5 + xbar^3 + xbar^2 - xbar + 1"
      ]
     },
     "execution_count": 88,
     "metadata": {},
     "output_type": "execute_result"
    }
   ],
   "source": [
    "m = plaintext([1,-1,1,1,0,-1,0],p,N); m"
   ]
  },
  {
   "cell_type": "code",
   "execution_count": 89,
   "id": "31ee007d-3957-491c-a4f0-9304b9910429",
   "metadata": {},
   "outputs": [
    {
     "data": {
      "text/plain": [
       "xbar^6 - xbar^5 + xbar - 1"
      ]
     },
     "execution_count": 89,
     "metadata": {},
     "output_type": "execute_result"
    }
   ],
   "source": [
    "r = R([-1,1,0,0,0,-1,1]); r"
   ]
  },
  {
   "cell_type": "code",
   "execution_count": 90,
   "id": "a3fe40a8-0ec9-4dfa-8996-31d1110d3d34",
   "metadata": {},
   "outputs": [],
   "source": [
    "if homomorphic_encryption:\n",
    "    assert all([abs(coeff) < q/2 for coeff in list(g*r+f*m)])"
   ]
  },
  {
   "cell_type": "code",
   "execution_count": 91,
   "id": "ea4e1c40-ef00-4a8b-a0db-221af5aea592",
   "metadata": {},
   "outputs": [
    {
     "data": {
      "text/plain": [
       "34*xbar^6 + 22*xbar^5 + 6*xbar^4 + 33*xbar^3 + 5*xbar^2 + 34*xbar + 31"
      ]
     },
     "execution_count": 91,
     "metadata": {},
     "output_type": "execute_result"
    }
   ],
   "source": [
    "e = ciphertext(m,f,g,r,p,q,N,d); e"
   ]
  },
  {
   "cell_type": "code",
   "execution_count": 92,
   "id": "46880677-ce92-4946-ba74-6c79e192389a",
   "metadata": {},
   "outputs": [
    {
     "data": {
      "text/plain": [
       "35*xbar^6 + 17*xbar^5 + 6*xbar^4 + 39*xbar^3 + 4*xbar^2 + 37*xbar + 7"
      ]
     },
     "execution_count": 92,
     "metadata": {},
     "output_type": "execute_result"
    }
   ],
   "source": [
    "a(f,e)"
   ]
  },
  {
   "cell_type": "code",
   "execution_count": 93,
   "id": "bc018ef3-5635-4e0c-9be0-430fb3e823dd",
   "metadata": {},
   "outputs": [
    {
     "data": {
      "text/plain": [
       "-6*xbar^6 + 17*xbar^5 + 6*xbar^4 - 2*xbar^3 + 4*xbar^2 - 4*xbar + 7"
      ]
     },
     "execution_count": 93,
     "metadata": {},
     "output_type": "execute_result"
    }
   ],
   "source": [
    "center_lift(a(f,e),q)"
   ]
  },
  {
   "cell_type": "code",
   "execution_count": 94,
   "id": "e8a79119-36e3-46ca-a58d-297b58eff14d",
   "metadata": {},
   "outputs": [
    {
     "data": {
      "text/plain": [
       "2*xbar^5 + xbar^3 + xbar^2 + 2*xbar + 1"
      ]
     },
     "execution_count": 94,
     "metadata": {},
     "output_type": "execute_result"
    }
   ],
   "source": [
    "b(f,a(f,e),q)"
   ]
  },
  {
   "cell_type": "code",
   "execution_count": 95,
   "id": "c4b8475e-40dc-4316-8517-97c2b4baa1a1",
   "metadata": {},
   "outputs": [
    {
     "data": {
      "text/plain": [
       "-xbar^5 + xbar^3 + xbar^2 - xbar + 1"
      ]
     },
     "execution_count": 95,
     "metadata": {},
     "output_type": "execute_result"
    }
   ],
   "source": [
    "decrypt(e,f,p,q)"
   ]
  },
  {
   "cell_type": "code",
   "execution_count": null,
   "id": "c930e95f-0416-445c-9679-214291223918",
   "metadata": {},
   "outputs": [],
   "source": []
  }
 ],
 "metadata": {
  "kernelspec": {
   "display_name": "SageMath 10.4",
   "language": "sage",
   "name": "sagemath-10.4"
  },
  "language_info": {
   "codemirror_mode": {
    "name": "ipython",
    "version": 3
   },
   "file_extension": ".py",
   "mimetype": "text/x-python",
   "name": "python",
   "nbconvert_exporter": "python",
   "pygments_lexer": "ipython3",
   "version": "3.12.4"
  }
 },
 "nbformat": 4,
 "nbformat_minor": 5
}
