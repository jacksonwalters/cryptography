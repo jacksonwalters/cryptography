{
 "cells": [
  {
   "cell_type": "code",
   "execution_count": 248,
   "id": "a67a05f0-6715-4ea2-8317-327abab91c9a",
   "metadata": {},
   "outputs": [],
   "source": [
    "#notebook of examples for the NTRU encryption scheme\n",
    "#see pp. \\S 7.10 and pp. 490-494 Hoffstein, Pipher, Silverman, An Introduction to Mathematical Cryptography"
   ]
  },
  {
   "cell_type": "code",
   "execution_count": 163,
   "id": "527dce82-ec3d-4162-95f6-e528714f38eb",
   "metadata": {},
   "outputs": [],
   "source": [
    "#define the parameters\n",
    "N=5; p=3; q=32; d=1\n",
    "assert N.is_prime()\n",
    "assert p.is_prime()\n",
    "assert gcd(N,q) == 1 \n",
    "assert gcd(p,q) == 1\n",
    "assert q > (6*d+1)*p"
   ]
  },
  {
   "cell_type": "code",
   "execution_count": 164,
   "id": "6d386d0b-d52e-43f3-8874-bffdfe88f295",
   "metadata": {},
   "outputs": [
    {
     "data": {
      "text/plain": [
       "Univariate Quotient Polynomial Ring in xbar over Integer Ring with modulus x^5 - 1"
      ]
     },
     "execution_count": 164,
     "metadata": {},
     "output_type": "execute_result"
    }
   ],
   "source": [
    "#create the polynomial ring \\Z[x]/(x^N-1)\n",
    "P.<x> = PolynomialRing(ZZ)\n",
    "R = P.quotient(x^N-1); R"
   ]
  },
  {
   "cell_type": "code",
   "execution_count": 165,
   "id": "7ebb78fd-2e4d-4adf-b8a3-f519fdb1444d",
   "metadata": {},
   "outputs": [
    {
     "data": {
      "text/plain": [
       "Univariate Quotient Polynomial Ring in xbar over Finite Field of size 3 with modulus x^5 + 2"
      ]
     },
     "execution_count": 165,
     "metadata": {},
     "output_type": "execute_result"
    }
   ],
   "source": [
    "#create the quotient polynomial ring \\Z_p[x]/(x^N-1)\n",
    "P_p.<x> = PolynomialRing(GF(p))\n",
    "R_p = P_p.quotient(x^N - 1); R_p"
   ]
  },
  {
   "cell_type": "code",
   "execution_count": 166,
   "id": "efbc1c14-9733-443e-9b09-2783b3e3e3f4",
   "metadata": {},
   "outputs": [
    {
     "data": {
      "text/plain": [
       "Univariate Quotient Polynomial Ring in xbar over Finite Field in z5 of size 2^5 with modulus x^5 + 1"
      ]
     },
     "execution_count": 166,
     "metadata": {},
     "output_type": "execute_result"
    }
   ],
   "source": [
    "#create the quotient polynomial ring \\Z_q[x]/(x^N-1)\n",
    "P_q.<x> = PolynomialRing(GF(q))\n",
    "R_q = P_q.quotient(x^N - 1); R_q"
   ]
  },
  {
   "cell_type": "code",
   "execution_count": 180,
   "id": "ea0f446d-ff94-401c-afeb-9fb16d52a202",
   "metadata": {},
   "outputs": [
    {
     "name": "stdout",
     "output_type": "stream",
     "text": [
      "-xbar^2 + xbar + 1\n",
      "2*xbar^2 + xbar + 1\n",
      "xbar^2 + xbar + 1\n"
     ]
    }
   ],
   "source": [
    "#define the polynomial f(x). f(x) \\in \\mathcal{T}(d+1,d), i.e. is a ternary polynomial\n",
    "#so has d+1 coeffs = 1, d coeffs = -1, all other coeffs = 0\n",
    "f = R([1,1,-1,0,0])\n",
    "print(f)\n",
    "print(R_p(f))\n",
    "print(R_q(f))"
   ]
  },
  {
   "cell_type": "code",
   "execution_count": 181,
   "id": "b6c4b580-723f-4f5f-bc6b-f3d17218aed6",
   "metadata": {},
   "outputs": [
    {
     "name": "stdout",
     "output_type": "stream",
     "text": [
      "-xbar^2 + xbar\n",
      "2*xbar^2 + xbar\n",
      "xbar^2 + xbar\n"
     ]
    }
   ],
   "source": [
    "#define the polynomial g(x). g(x) \\in \\mathcal{T}(d,d), i.e. is a ternary polynomial\n",
    "#so has d coeffs = 1, d coeffs = -1, all other coeffs = 0\n",
    "g = R([0,1,-1,0,0])\n",
    "print(g)\n",
    "print(R_p(g))\n",
    "print(R_q(g))"
   ]
  },
  {
   "cell_type": "code",
   "execution_count": 183,
   "id": "ba1fef9d-c66f-469d-9884-50e04a337617",
   "metadata": {},
   "outputs": [
    {
     "name": "stdout",
     "output_type": "stream",
     "text": [
      "xbar^4 + 2*xbar^3 + 2*xbar + 2\n"
     ]
    }
   ],
   "source": [
    "#compute F_p(x) = f(x)^{-1} (mod p)\n",
    "F_p = R_p(f)^(-1); print(F_p)\n",
    "assert F_p * R_p(f) == 1"
   ]
  },
  {
   "cell_type": "code",
   "execution_count": 184,
   "id": "fa5340b0-a20a-4089-af8a-51acf8749224",
   "metadata": {},
   "outputs": [
    {
     "name": "stdout",
     "output_type": "stream",
     "text": [
      "xbar^4 + xbar^2 + xbar\n"
     ]
    }
   ],
   "source": [
    "#compute F_q(x) = f(x)^{-1} (mod q)\n",
    "F_q = R_q(f)^(-1); print(F_q)\n",
    "assert F_q * R_q(f) == 1"
   ]
  },
  {
   "cell_type": "code",
   "execution_count": 185,
   "id": "e8e62de2-4fc4-47c4-a5fa-760aec539cd0",
   "metadata": {},
   "outputs": [],
   "source": [
    "#define the public key using f(x) (mod p), g(x) (mod p)\n",
    "def public_key(f,g,q):\n",
    "    F_q = R_q(f)^(-1)\n",
    "    return F_q * R_q(g)"
   ]
  },
  {
   "cell_type": "code",
   "execution_count": 189,
   "id": "3ddb2d50-1d41-4513-b8cd-7563727cffd6",
   "metadata": {},
   "outputs": [],
   "source": [
    "#define the private key used to decrypt messages\n",
    "def private_key(f):\n",
    "    return (f,R_q(f)^(-1))"
   ]
  },
  {
   "cell_type": "code",
   "execution_count": 254,
   "id": "dc6fe9d3-1f79-43b0-bd6f-6f67ba9a2974",
   "metadata": {},
   "outputs": [],
   "source": [
    "#define a plaintext message m(x) with coefficients satisfying -p/2 < m_i <= p/2\n",
    "#i.e. m is the center lift of a polynomial in R_p\n",
    "def plaintext(message,p,N):\n",
    "    assert all([-p/2 < message[i] <= +p/2 for i in range(N)])\n",
    "    return R(l)"
   ]
  },
  {
   "cell_type": "code",
   "execution_count": 257,
   "id": "46b2a9e0-b3dc-426b-86e4-608859575b04",
   "metadata": {},
   "outputs": [],
   "source": [
    "#choose a random element of \\mathcal{T}(d,d)\n",
    "def rand_r(N,d):\n",
    "    coeffs = (N-2*d)*[0] + d*[+1] + d*[-1]\n",
    "    sigma = Permutations(N).random_element()\n",
    "    return R([coeffs[sigma[i]-1] for i in range(N)])"
   ]
  },
  {
   "cell_type": "code",
   "execution_count": 255,
   "id": "0f9149d7-0743-4380-8fc6-3af6372c97d6",
   "metadata": {},
   "outputs": [],
   "source": [
    "#compute the ciphertext e(x)\n",
    "def ciphertext(message,f,g,p,q,N,d):\n",
    "    h = public_key(f,g,q)\n",
    "    r = rand_r(N,d)\n",
    "    m = plaintext(message)\n",
    "    e = R_q(p*h*r + m)\n",
    "    return e"
   ]
  },
  {
   "cell_type": "code",
   "execution_count": 256,
   "id": "ea4e1c40-ef00-4a8b-a0db-221af5aea592",
   "metadata": {},
   "outputs": [
    {
     "ename": "NameError",
     "evalue": "name 'rand_r' is not defined",
     "output_type": "error",
     "traceback": [
      "\u001b[0;31m---------------------------------------------------------------------------\u001b[0m",
      "\u001b[0;31mNameError\u001b[0m                                 Traceback (most recent call last)",
      "Cell \u001b[0;32mIn[256], line 1\u001b[0m\n\u001b[0;32m----> 1\u001b[0m \u001b[43mciphertext\u001b[49m\u001b[43m(\u001b[49m\u001b[43m[\u001b[49m\u001b[38;5;241;43m+\u001b[39;49m\u001b[43mInteger\u001b[49m\u001b[43m(\u001b[49m\u001b[38;5;241;43m1\u001b[39;49m\u001b[43m)\u001b[49m\u001b[43m,\u001b[49m\u001b[38;5;241;43m-\u001b[39;49m\u001b[43mInteger\u001b[49m\u001b[43m(\u001b[49m\u001b[38;5;241;43m1\u001b[39;49m\u001b[43m)\u001b[49m\u001b[43m,\u001b[49m\u001b[38;5;241;43m+\u001b[39;49m\u001b[43mInteger\u001b[49m\u001b[43m(\u001b[49m\u001b[38;5;241;43m1\u001b[39;49m\u001b[43m)\u001b[49m\u001b[43m,\u001b[49m\u001b[43mInteger\u001b[49m\u001b[43m(\u001b[49m\u001b[38;5;241;43m0\u001b[39;49m\u001b[43m)\u001b[49m\u001b[43m,\u001b[49m\u001b[43mInteger\u001b[49m\u001b[43m(\u001b[49m\u001b[38;5;241;43m0\u001b[39;49m\u001b[43m)\u001b[49m\u001b[43m]\u001b[49m\u001b[43m,\u001b[49m\u001b[43mf\u001b[49m\u001b[43m,\u001b[49m\u001b[43mg\u001b[49m\u001b[43m,\u001b[49m\u001b[43mp\u001b[49m\u001b[43m,\u001b[49m\u001b[43mq\u001b[49m\u001b[43m,\u001b[49m\u001b[43mN\u001b[49m\u001b[43m,\u001b[49m\u001b[43md\u001b[49m\u001b[43m)\u001b[49m\n",
      "Cell \u001b[0;32mIn[255], line 4\u001b[0m, in \u001b[0;36mciphertext\u001b[0;34m(message, f, g, p, q, N, d)\u001b[0m\n\u001b[1;32m      2\u001b[0m \u001b[38;5;28;01mdef\u001b[39;00m \u001b[38;5;21mciphertext\u001b[39m(message,f,g,p,q,N,d):\n\u001b[1;32m      3\u001b[0m     h \u001b[38;5;241m=\u001b[39m public_key(f,g,q)\n\u001b[0;32m----> 4\u001b[0m     r \u001b[38;5;241m=\u001b[39m \u001b[43mrand_r\u001b[49m(N,d)\n\u001b[1;32m      5\u001b[0m     m \u001b[38;5;241m=\u001b[39m plaintext(message)\n\u001b[1;32m      6\u001b[0m     e \u001b[38;5;241m=\u001b[39m R_q(p\u001b[38;5;241m*\u001b[39mh\u001b[38;5;241m*\u001b[39mr \u001b[38;5;241m+\u001b[39m m)\n",
      "\u001b[0;31mNameError\u001b[0m: name 'rand_r' is not defined"
     ]
    }
   ],
   "source": [
    "ciphertext([+1,-1,+1,0,0],f,g,p,q,N,d)"
   ]
  },
  {
   "cell_type": "code",
   "execution_count": null,
   "id": "0b057104-7ce8-4dbc-933f-6eb4277d1659",
   "metadata": {},
   "outputs": [],
   "source": []
  }
 ],
 "metadata": {
  "kernelspec": {
   "display_name": "SageMath 10.4",
   "language": "sage",
   "name": "sagemath-10.4"
  },
  "language_info": {
   "codemirror_mode": {
    "name": "ipython",
    "version": 3
   },
   "file_extension": ".py",
   "mimetype": "text/x-python",
   "name": "python",
   "nbconvert_exporter": "python",
   "pygments_lexer": "ipython3",
   "version": "3.12.4"
  }
 },
 "nbformat": 4,
 "nbformat_minor": 5
}
