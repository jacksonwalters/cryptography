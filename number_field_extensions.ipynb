{
 "cells": [
  {
   "cell_type": "code",
   "execution_count": 2,
   "id": "747eab3c-c598-469b-9b40-e51a74b0bb76",
   "metadata": {},
   "outputs": [],
   "source": [
    "#define the base ring, the rational numbers\n",
    "R = QQ"
   ]
  },
  {
   "cell_type": "code",
   "execution_count": 3,
   "id": "670cbdcb-9d2d-47e8-9899-b590cedb0ded",
   "metadata": {},
   "outputs": [],
   "source": [
    "#define two polynomials f(x) and g(x) to define \\sqrt{2}, \\sqrt{3}\n",
    "f = x**2-2; g = x**2 - 3"
   ]
  },
  {
   "cell_type": "code",
   "execution_count": 4,
   "id": "8deeab28-a9a5-4591-a709-a221c8554b5f",
   "metadata": {},
   "outputs": [
    {
     "data": {
      "text/plain": [
       "Number Field in b with defining polynomial x^2 - 3 over its base field"
      ]
     },
     "execution_count": 4,
     "metadata": {},
     "output_type": "execute_result"
    }
   ],
   "source": [
    "#form the extension \\Q(\\sqrt{2},\\sqrt{3})\n",
    "K.<a> = R.extension(f); K.<b> = K.extension(g); K"
   ]
  },
  {
   "cell_type": "code",
   "execution_count": 5,
   "id": "5408ae3e-7a7f-4e2b-8bad-9aaddd3e8557",
   "metadata": {},
   "outputs": [
    {
     "data": {
      "text/plain": [
       "4"
      ]
     },
     "execution_count": 5,
     "metadata": {},
     "output_type": "execute_result"
    }
   ],
   "source": [
    "#compute the degree [K:\\Q]\n",
    "K.absolute_degree()"
   ]
  },
  {
   "cell_type": "code",
   "execution_count": 6,
   "id": "9836c01a-16b5-4f63-954b-b85203231183",
   "metadata": {},
   "outputs": [
    {
     "data": {
      "text/plain": [
       "Univariate Polynomial Ring in x over Number Field in b with defining polynomial x^2 - 3 over its base field"
      ]
     },
     "execution_count": 6,
     "metadata": {},
     "output_type": "execute_result"
    }
   ],
   "source": [
    "#form the polynomial ring K[x]\n",
    "S.<x> = PolynomialRing(K); S"
   ]
  },
  {
   "cell_type": "code",
   "execution_count": 7,
   "id": "48e395f9-1f9d-4c5d-9e22-1caa0491c08c",
   "metadata": {},
   "outputs": [],
   "source": [
    "#define the \"secret\" polynomial h(x)\n",
    "h = x^3+10*x+5"
   ]
  },
  {
   "cell_type": "code",
   "execution_count": 8,
   "id": "2a6b3dbb-f7d0-4783-98b4-3ae08dd5b70d",
   "metadata": {},
   "outputs": [
    {
     "data": {
      "text/plain": [
       "True"
      ]
     },
     "execution_count": 8,
     "metadata": {},
     "output_type": "execute_result"
    }
   ],
   "source": [
    "#check that h is irreducible\n",
    "h.is_irreducible()"
   ]
  },
  {
   "cell_type": "code",
   "execution_count": 9,
   "id": "b1e1d825-bd2b-4c59-ad53-ebaada8da6d7",
   "metadata": {},
   "outputs": [],
   "source": [
    "#form the splitting field. note the degree [L:\\Q] = [L:K]*{K:\\Q} = [L:K]*4 <= 4*3! = 24\n",
    "#in general, for a random polynomial h(x), the Galois group will be S_n where n = deg(h)\n",
    "#use map=True to recover an embedding\n",
    "#if K/\\Q is Galois, then the embeddings will be conjugate by an element of Gal(K/\\Q)\n",
    "L.<c>, phi = h.splitting_field(map=True)"
   ]
  },
  {
   "cell_type": "code",
   "execution_count": 172,
   "id": "689c132c-0625-44dc-8918-6079edd60698",
   "metadata": {},
   "outputs": [],
   "source": [
    "phi_matrix = [phi(1),phi(sqrt2),phi(sqrt3),phi(sqrt6)]"
   ]
  },
  {
   "cell_type": "code",
   "execution_count": 173,
   "id": "d74f9bca-f1a6-4dc4-935e-ecf5b2ea4f55",
   "metadata": {},
   "outputs": [
    {
     "data": {
      "text/plain": [
       "Number Field in c with defining polynomial x^24 + 12*x^23 + 686*x^22 + 7080*x^21 + 206131*x^20 + 1829892*x^19 + 35701736*x^18 + 271516020*x^17 + 3947338120*x^16 + 25517234964*x^15 + 291877964810*x^14 + 1585575399048*x^13 + 14735954149567*x^12 + 66257191223220*x^11 + 511062391400924*x^10 + 1864506168304404*x^9 + 12132993171967681*x^8 + 34951457760265416*x^7 + 194823291704702772*x^6 + 423720676284172344*x^5 + 2050232826074337612*x^4 + 3045440070906231600*x^3 + 12850924284308402568*x^2 + 9921474651372444288*x + 36382675229594461188"
      ]
     },
     "execution_count": 173,
     "metadata": {},
     "output_type": "execute_result"
    }
   ],
   "source": [
    "L"
   ]
  },
  {
   "cell_type": "code",
   "execution_count": 192,
   "id": "4e138a97-5cdf-4aa4-b8c5-6e8093bb6151",
   "metadata": {},
   "outputs": [
    {
     "name": "stdout",
     "output_type": "stream",
     "text": [
      "encrypted_message_size/[L:\\Q] =  155.916666666667\n",
      "message_size =  77\n",
      "encrypted_message_size =  3742\n",
      "infaltion_ratio =  48.5974025974026\n"
     ]
    }
   ],
   "source": [
    "#we can compute embeddings of elements of K, so \\Q-linear combinations of {1,\\sqrt{2},\\sqrt{3},\\sqrt{6}}\n",
    "sqrt2 = sqrt(K(2))\n",
    "sqrt3 = sqrt(K(3))\n",
    "sqrt6 = sqrt(K(6))\n",
    "m1 = int.from_bytes(\"new\".encode()); m2 = int.from_bytes(\"homomorphic\".encode()); m3 = int.from_bytes(\"encryption\".encode()); m4 = int.from_bytes(\"scheme\".encode())\n",
    "message = m1*1 + m2*sqrt2 + m3*sqrt3 + m4*sqrt6\n",
    "coeffs = flatten([list(m) for m in list(message)])\n",
    "message_size = sum([len(m.numerator().digits())+len(m.denominator().digits()) for m in coeffs])\n",
    "encrypted_message = phi(message)\n",
    "encrypted_message_size = sum([len(coeff.numerator().digits())+len(coeff.denominator().digits()) for coeff in list(encrypted_message)])\n",
    "print(\"encrypted_message_size/[L:\\Q] = \",(encrypted_message_size/L.absolute_degree()).n())\n",
    "print(\"message_size = \",message_size)\n",
    "print(\"encrypted_message_size = \",encrypted_message_size)\n",
    "print(\"infaltion_ratio = \",encrypted_message_size/message_size)"
   ]
  },
  {
   "cell_type": "code",
   "execution_count": 194,
   "id": "97344bd6-4621-44b2-b796-456c74e79320",
   "metadata": {},
   "outputs": [
    {
     "data": {
      "text/plain": [
       "-567481301117818518427842130772074399472843491271045442338920408432412025283/868081485832474496722229633731078036834505437208763566631512895972*c^23 - 8060467024632284958167459125546596519066999163769291057248344855502458519597647/936659923213239981963285774795833201744431366748255888395402414753788*c^22 - 413870780220065970985475216798914462115690099812119289512230238652114019159254403/936659923213239981963285774795833201744431366748255888395402414753788*c^21 - 4651375368841378855529104440452886571911463039278982470797066529517750584726577865/936659923213239981963285774795833201744431366748255888395402414753788*c^20 - 52566657460730215414300469388364244130954279449390440068166482592398874956211709/404430018658566486167221837131188774501049812931025858547237657493*c^19 - 97600635408172741541466465022429450340069125896308165316491969810010960350961880279/78054993601103331830273814566319433478702613895687990699616867896149*c^18 - 10244630427448857750712239274173645151628705870094869884476573495674184774348220425131/468329961606619990981642887397916600872215683374127944197701207376894*c^17 - 6478377369061963701478031641851060532105469365175352986316243261193223801502566901191/36025381662047691613972529799839738528631975644163688015207785182838*c^16 - 545265524905256081719199720399798508007500322166052944637603582404597806587144208921198/234164980803309995490821443698958300436107841687063972098850603688447*c^15 - 3810695574058255014311720800339398944791574104734756929232140616472717687377894911353159/234164980803309995490821443698958300436107841687063972098850603688447*c^14 - 1967015317310466092585884768993867630642034197355340158475491020949050790552944020744379/12008460554015897204657509933279912842877325214721229338402595060946*c^13 - 429496296467988004745613642426823617612401746256521426501367474124368584122477726017603/444757798296885081653981849380737512699160193137823308829725742998*c^12 - 17994873489597791744467554285217438326502051117104534336661190905083760360137816819308303/2324218171745012362191776116118692808298837138333141162271470011796*c^11 - 35723637756721082974227927163461762091140585117515790783448241089906073658696838751007268535/936659923213239981963285774795833201744431366748255888395402414753788*c^10 - 17711985552354887948041701011790543059141983150855279512499206818577911034748639045001897813/72050763324095383227945059599679477057263951288327376030415570365676*c^9 - 937466283672281165839242165435835765714604653772692789035055984083971638790760118489268728343/936659923213239981963285774795833201744431366748255888395402414753788*c^8 - 134543326208838569975673706696268523710852367424405812583374985565048408763830081131090853756/26018331200367777276757938188773144492900871298562663566538955965383*c^7 - 1342295427163133333911755051035562087723785155404773372149159574542680888979758043141466556227/78054993601103331830273814566319433478702613895687990699616867896149*c^6 - 1213008860434154340751692960619564814994547543281516283304211021224892139853148908808615053881/17345554133578518184505292125848762995267247532375109044359303976922*c^5 - 1080367599464388110946264831615586022617807801361193409524975594369676271904471495381661952113/5781851377859506061501764041949587665089082510791703014786434658974*c^4 - 4896009935292279965094747327504634289854354859287429245456121366837030742041185397933168431542/8672777066789259092252646062924381497633623766187554522179651988461*c^3 - 1438369915689421888169965490405133180761770636407229899402785712215983974766088353210870444334/1238968152398465584607520866132054499661946252312507788882807426923*c^2 - 670961433385790953060682021367567119526798788116011792982947360655791350645865321740227111034/321213965436639225638986891219421536949393472821761278599246369943*c - 673291189397756620141436872471208725828542325078699592967103393354137889892442360632784094709/222378899148442540826990924690368756349580096568911654414862871499"
      ]
     },
     "execution_count": 194,
     "metadata": {},
     "output_type": "execute_result"
    }
   ],
   "source": [
    "encrypted_message"
   ]
  },
  {
   "cell_type": "code",
   "execution_count": null,
   "id": "01ee8da9-69c1-4c1c-b775-1924d451778a",
   "metadata": {},
   "outputs": [],
   "source": []
  }
 ],
 "metadata": {
  "kernelspec": {
   "display_name": "SageMath 10.4",
   "language": "sage",
   "name": "sagemath-10.4"
  },
  "language_info": {
   "codemirror_mode": {
    "name": "ipython",
    "version": 3
   },
   "file_extension": ".py",
   "mimetype": "text/x-python",
   "name": "python",
   "nbconvert_exporter": "python",
   "pygments_lexer": "ipython3",
   "version": "3.12.4"
  }
 },
 "nbformat": 4,
 "nbformat_minor": 5
}
