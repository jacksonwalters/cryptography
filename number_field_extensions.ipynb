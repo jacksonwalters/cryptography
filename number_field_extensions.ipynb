{
 "cells": [
  {
   "cell_type": "code",
   "execution_count": 8,
   "id": "747eab3c-c598-469b-9b40-e51a74b0bb76",
   "metadata": {},
   "outputs": [],
   "source": [
    "R = QQ"
   ]
  },
  {
   "cell_type": "code",
   "execution_count": 19,
   "id": "670cbdcb-9d2d-47e8-9899-b590cedb0ded",
   "metadata": {},
   "outputs": [],
   "source": [
    "f = x**2-2; g = x**2 - 3"
   ]
  },
  {
   "cell_type": "code",
   "execution_count": 23,
   "id": "8deeab28-a9a5-4591-a709-a221c8554b5f",
   "metadata": {},
   "outputs": [
    {
     "data": {
      "text/plain": [
       "Number Field in b with defining polynomial x^2 - 3 over its base field"
      ]
     },
     "execution_count": 23,
     "metadata": {},
     "output_type": "execute_result"
    }
   ],
   "source": [
    "K.<a> = R.extension(f); K.<b> = K.extension(g); K"
   ]
  },
  {
   "cell_type": "code",
   "execution_count": 29,
   "id": "5408ae3e-7a7f-4e2b-8bad-9aaddd3e8557",
   "metadata": {},
   "outputs": [
    {
     "data": {
      "text/plain": [
       "4"
      ]
     },
     "execution_count": 29,
     "metadata": {},
     "output_type": "execute_result"
    }
   ],
   "source": [
    "K.absolute_degree()"
   ]
  },
  {
   "cell_type": "code",
   "execution_count": 33,
   "id": "48e395f9-1f9d-4c5d-9e22-1caa0491c08c",
   "metadata": {},
   "outputs": [],
   "source": [
    "h = x^6+x+1"
   ]
  },
  {
   "cell_type": "code",
   "execution_count": 34,
   "id": "2a6b3dbb-f7d0-4783-98b4-3ae08dd5b70d",
   "metadata": {},
   "outputs": [
    {
     "data": {
      "text/plain": [
       "True"
      ]
     },
     "execution_count": 34,
     "metadata": {},
     "output_type": "execute_result"
    }
   ],
   "source": [
    "h.is_irreducible()"
   ]
  },
  {
   "cell_type": "code",
   "execution_count": 37,
   "id": "b1e1d825-bd2b-4c59-ad53-ebaada8da6d7",
   "metadata": {},
   "outputs": [
    {
     "ename": "NotImplementedError",
     "evalue": "Galois group computation is supported for degrees up to 11 using PARI, or up to 21 if KASH is installed.  Try algorithm='magma' if you have magma.",
     "output_type": "error",
     "traceback": [
      "\u001b[0;31m---------------------------------------------------------------------------\u001b[0m",
      "\u001b[0;31mNotImplementedError\u001b[0m                       Traceback (most recent call last)",
      "Cell \u001b[0;32mIn[37], line 1\u001b[0m\n\u001b[0;32m----> 1\u001b[0m L \u001b[38;5;241m=\u001b[39m K\u001b[38;5;241m.\u001b[39mextension(h, names\u001b[38;5;241m=\u001b[39m(\u001b[38;5;124m'\u001b[39m\u001b[38;5;124mc\u001b[39m\u001b[38;5;124m'\u001b[39m,)); (c,) \u001b[38;5;241m=\u001b[39m L\u001b[38;5;241m.\u001b[39m_first_ngens(\u001b[38;5;241m1\u001b[39m); L\u001b[38;5;241m.\u001b[39mis_galois_absolute()\n",
      "File \u001b[0;32m/private/var/tmp/sage-10.4-current/local/var/lib/sage/venv-python3.12.4/lib/python3.12/site-packages/sage/rings/number_field/number_field_rel.py:1253\u001b[0m, in \u001b[0;36mNumberField_relative.is_galois_absolute\u001b[0;34m(self)\u001b[0m\n\u001b[1;32m   1240\u001b[0m \u001b[38;5;250m\u001b[39m\u001b[38;5;124mr\u001b[39m\u001b[38;5;124;03m\"\"\"\u001b[39;00m\n\u001b[1;32m   1241\u001b[0m \u001b[38;5;124;03mReturn ``True`` if for this relative extension `L/K`, `L` is a Galois extension of `\\QQ`.\u001b[39;00m\n\u001b[1;32m   1242\u001b[0m \n\u001b[0;32m   (...)\u001b[0m\n\u001b[1;32m   1250\u001b[0m \n\u001b[1;32m   1251\u001b[0m \u001b[38;5;124;03m\"\"\"\u001b[39;00m\n\u001b[1;32m   1252\u001b[0m f \u001b[38;5;241m=\u001b[39m \u001b[38;5;28mself\u001b[39m\u001b[38;5;241m.\u001b[39mabsolute_polynomial()\n\u001b[0;32m-> 1253\u001b[0m \u001b[38;5;28;01mreturn\u001b[39;00m \u001b[43mf\u001b[49m\u001b[38;5;241;43m.\u001b[39;49m\u001b[43mgalois_group\u001b[49m\u001b[43m(\u001b[49m\u001b[43mpari_group\u001b[49m\u001b[38;5;241;43m=\u001b[39;49m\u001b[38;5;28;43;01mTrue\u001b[39;49;00m\u001b[43m)\u001b[49m\u001b[38;5;241m.\u001b[39morder() \u001b[38;5;241m==\u001b[39m \u001b[38;5;28mself\u001b[39m\u001b[38;5;241m.\u001b[39mabsolute_degree()\n",
      "File \u001b[0;32m/private/var/tmp/sage-10.4-current/local/var/lib/sage/venv-python3.12.4/lib/python3.12/site-packages/sage/rings/polynomial/polynomial_rational_flint.pyx:2194\u001b[0m, in \u001b[0;36msage.rings.polynomial.polynomial_rational_flint.Polynomial_rational_flint.galois_group (build/cythonized/sage/rings/polynomial/polynomial_rational_flint.cpp:26721)\u001b[0;34m()\u001b[0m\n\u001b[1;32m   2192\u001b[0m \n\u001b[1;32m   2193\u001b[0m         if self.degree() > 21 and algorithm == 'kash':\n\u001b[0;32m-> 2194\u001b[0m             raise NotImplementedError(\"Galois group computation is \"\n\u001b[1;32m   2195\u001b[0m                 \"supported for degrees up to 11 using PARI, or up to 21 \"\n\u001b[1;32m   2196\u001b[0m                 \"if KASH is installed.  Try \"\n",
      "\u001b[0;31mNotImplementedError\u001b[0m: Galois group computation is supported for degrees up to 11 using PARI, or up to 21 if KASH is installed.  Try algorithm='magma' if you have magma."
     ]
    }
   ],
   "source": [
    "L.<c> = K.extension(h); L.is_galois_absolute()"
   ]
  },
  {
   "cell_type": "code",
   "execution_count": null,
   "id": "d74f9bca-f1a6-4dc4-935e-ecf5b2ea4f55",
   "metadata": {},
   "outputs": [],
   "source": []
  }
 ],
 "metadata": {
  "kernelspec": {
   "display_name": "SageMath 10.4",
   "language": "sage",
   "name": "sagemath-10.4"
  },
  "language_info": {
   "codemirror_mode": {
    "name": "ipython",
    "version": 3
   },
   "file_extension": ".py",
   "mimetype": "text/x-python",
   "name": "python",
   "nbconvert_exporter": "python",
   "pygments_lexer": "ipython3",
   "version": "3.12.4"
  }
 },
 "nbformat": 4,
 "nbformat_minor": 5
}
