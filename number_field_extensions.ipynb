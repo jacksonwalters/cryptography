{
 "cells": [
  {
   "cell_type": "code",
   "execution_count": 2,
   "id": "747eab3c-c598-469b-9b40-e51a74b0bb76",
   "metadata": {},
   "outputs": [],
   "source": [
    "#define the base ring, the rational numbers\n",
    "R = QQ"
   ]
  },
  {
   "cell_type": "code",
   "execution_count": 3,
   "id": "670cbdcb-9d2d-47e8-9899-b590cedb0ded",
   "metadata": {},
   "outputs": [],
   "source": [
    "#define two polynomials f(x) and g(x) to define \\sqrt{2}, \\sqrt{3}\n",
    "f = x**2-2; g = x**2 - 3"
   ]
  },
  {
   "cell_type": "code",
   "execution_count": 4,
   "id": "8deeab28-a9a5-4591-a709-a221c8554b5f",
   "metadata": {},
   "outputs": [
    {
     "data": {
      "text/plain": [
       "Number Field in b with defining polynomial x^2 - 3 over its base field"
      ]
     },
     "execution_count": 4,
     "metadata": {},
     "output_type": "execute_result"
    }
   ],
   "source": [
    "#form the extension \\Q(\\sqrt{2},\\sqrt{3})\n",
    "K.<a> = R.extension(f); K.<b> = K.extension(g); K"
   ]
  },
  {
   "cell_type": "code",
   "execution_count": 5,
   "id": "5408ae3e-7a7f-4e2b-8bad-9aaddd3e8557",
   "metadata": {},
   "outputs": [
    {
     "data": {
      "text/plain": [
       "4"
      ]
     },
     "execution_count": 5,
     "metadata": {},
     "output_type": "execute_result"
    }
   ],
   "source": [
    "#compute the degree [K:\\Q]\n",
    "K.absolute_degree()"
   ]
  },
  {
   "cell_type": "code",
   "execution_count": 6,
   "id": "9836c01a-16b5-4f63-954b-b85203231183",
   "metadata": {},
   "outputs": [
    {
     "data": {
      "text/plain": [
       "Univariate Polynomial Ring in x over Number Field in b with defining polynomial x^2 - 3 over its base field"
      ]
     },
     "execution_count": 6,
     "metadata": {},
     "output_type": "execute_result"
    }
   ],
   "source": [
    "#form the polynomial ring K[x]\n",
    "S.<x> = PolynomialRing(K); S"
   ]
  },
  {
   "cell_type": "code",
   "execution_count": 7,
   "id": "48e395f9-1f9d-4c5d-9e22-1caa0491c08c",
   "metadata": {},
   "outputs": [],
   "source": [
    "#define the \"secret\" polynomial h(x)\n",
    "h = x^3+10*x+5"
   ]
  },
  {
   "cell_type": "code",
   "execution_count": 8,
   "id": "2a6b3dbb-f7d0-4783-98b4-3ae08dd5b70d",
   "metadata": {},
   "outputs": [
    {
     "data": {
      "text/plain": [
       "True"
      ]
     },
     "execution_count": 8,
     "metadata": {},
     "output_type": "execute_result"
    }
   ],
   "source": [
    "#check that h is irreducible\n",
    "h.is_irreducible()"
   ]
  },
  {
   "cell_type": "code",
   "execution_count": 9,
   "id": "b1e1d825-bd2b-4c59-ad53-ebaada8da6d7",
   "metadata": {},
   "outputs": [],
   "source": [
    "#form the splitting field. note the degree [L:\\Q] = [L:K]*{K:\\Q} = [L:K]*4 <= 4*3! = 24\n",
    "#in general, for a random polynomial h(x), the Galois group will be S_n where n = deg(h)\n",
    "#use map=True to recover an embedding\n",
    "#if K/\\Q is Galois, then the embeddings will be conjugate by an element of Gal(K/\\Q)\n",
    "L.<c>, phi = h.splitting_field(map=True)"
   ]
  },
  {
   "cell_type": "code",
   "execution_count": 214,
   "id": "689c132c-0625-44dc-8918-6079edd60698",
   "metadata": {},
   "outputs": [],
   "source": [
    "phi_matrix = [phi(1),phi(sqrt2),phi(sqrt3),phi(sqrt6)]"
   ]
  },
  {
   "cell_type": "code",
   "execution_count": 215,
   "id": "d74f9bca-f1a6-4dc4-935e-ecf5b2ea4f55",
   "metadata": {},
   "outputs": [
    {
     "data": {
      "text/plain": [
       "Number Field in c with defining polynomial x^24 + 12*x^23 + 686*x^22 + 7080*x^21 + 206131*x^20 + 1829892*x^19 + 35701736*x^18 + 271516020*x^17 + 3947338120*x^16 + 25517234964*x^15 + 291877964810*x^14 + 1585575399048*x^13 + 14735954149567*x^12 + 66257191223220*x^11 + 511062391400924*x^10 + 1864506168304404*x^9 + 12132993171967681*x^8 + 34951457760265416*x^7 + 194823291704702772*x^6 + 423720676284172344*x^5 + 2050232826074337612*x^4 + 3045440070906231600*x^3 + 12850924284308402568*x^2 + 9921474651372444288*x + 36382675229594461188"
      ]
     },
     "execution_count": 215,
     "metadata": {},
     "output_type": "execute_result"
    }
   ],
   "source": [
    "L"
   ]
  },
  {
   "cell_type": "code",
   "execution_count": 221,
   "id": "4e138a97-5cdf-4aa4-b8c5-6e8093bb6151",
   "metadata": {},
   "outputs": [
    {
     "name": "stdout",
     "output_type": "stream",
     "text": [
      "encrypted_message_size/[L:\\Q] =  155.916666666667\n",
      "message_size =  77\n",
      "encrypted_message_size =  3742\n",
      "infaltion_ratio =  48.5974025974026\n"
     ]
    }
   ],
   "source": [
    "#we can compute embeddings of elements of K, so \\Q-linear combinations of {1,\\sqrt{2},\\sqrt{3},\\sqrt{6}}\n",
    "sqrt2 = sqrt(K(2))\n",
    "sqrt3 = sqrt(K(3))\n",
    "sqrt6 = sqrt(K(6))\n",
    "m1 = int.from_bytes(\"new\".encode()); m2 = int.from_bytes(\"homomorphic\".encode()); m3 = int.from_bytes(\"encryption\".encode()); m4 = int.from_bytes(\"scheme\".encode())\n",
    "message = m1*1 + m2*sqrt2 + m3*sqrt3 + m4*sqrt6\n",
    "coeffs = flatten([list(m) for m in list(message_0)])\n",
    "message_size = sum([len(m.numerator().digits())+len(m.denominator().digits()) for m in coeffs])\n",
    "encrypted_message = phi(message)\n",
    "encrypted_message_size = sum([len(coeff.numerator().digits())+len(coeff.denominator().digits()) for coeff in list(encrypted_message)])\n",
    "print(\"encrypted_message_size/[L:\\Q] = \",(encrypted_message_size/L.absolute_degree()).n())\n",
    "print(\"message_size = \",message_size)\n",
    "print(\"encrypted_message_size = \",encrypted_message_size)\n",
    "print(\"infaltion_ratio = \",encrypted_message_size/message_size)"
   ]
  },
  {
   "cell_type": "code",
   "execution_count": 224,
   "id": "97344bd6-4621-44b2-b796-456c74e79320",
   "metadata": {},
   "outputs": [],
   "source": [
    "encrypted_message_1 = encrypted_message"
   ]
  },
  {
   "cell_type": "code",
   "execution_count": null,
   "id": "01ee8da9-69c1-4c1c-b775-1924d451778a",
   "metadata": {},
   "outputs": [],
   "source": []
  }
 ],
 "metadata": {
  "kernelspec": {
   "display_name": "SageMath 10.4",
   "language": "sage",
   "name": "sagemath-10.4"
  },
  "language_info": {
   "codemirror_mode": {
    "name": "ipython",
    "version": 3
   },
   "file_extension": ".py",
   "mimetype": "text/x-python",
   "name": "python",
   "nbconvert_exporter": "python",
   "pygments_lexer": "ipython3",
   "version": "3.12.4"
  }
 },
 "nbformat": 4,
 "nbformat_minor": 5
}
