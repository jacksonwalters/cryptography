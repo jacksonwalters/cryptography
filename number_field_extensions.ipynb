{
 "cells": [
  {
   "cell_type": "code",
   "execution_count": 1,
   "id": "747eab3c-c598-469b-9b40-e51a74b0bb76",
   "metadata": {},
   "outputs": [],
   "source": [
    "#define the base ring, the rational numbers\n",
    "R = QQ"
   ]
  },
  {
   "cell_type": "code",
   "execution_count": 2,
   "id": "670cbdcb-9d2d-47e8-9899-b590cedb0ded",
   "metadata": {},
   "outputs": [],
   "source": [
    "#define two polynomials f(x) and g(x) to define \\sqrt{2}, \\sqrt{3}\n",
    "f = x**2-2; g = x**2 - 3"
   ]
  },
  {
   "cell_type": "code",
   "execution_count": 3,
   "id": "8deeab28-a9a5-4591-a709-a221c8554b5f",
   "metadata": {},
   "outputs": [
    {
     "data": {
      "text/plain": [
       "Number Field in b with defining polynomial x^2 - 3 over its base field"
      ]
     },
     "execution_count": 3,
     "metadata": {},
     "output_type": "execute_result"
    }
   ],
   "source": [
    "#form the extension \\Q(\\sqrt{2},\\sqrt{3})\n",
    "K.<a> = R.extension(f); K.<b> = K.extension(g); K"
   ]
  },
  {
   "cell_type": "code",
   "execution_count": 4,
   "id": "5408ae3e-7a7f-4e2b-8bad-9aaddd3e8557",
   "metadata": {},
   "outputs": [
    {
     "data": {
      "text/plain": [
       "4"
      ]
     },
     "execution_count": 4,
     "metadata": {},
     "output_type": "execute_result"
    }
   ],
   "source": [
    "#compute the degree [K:\\Q]\n",
    "K.absolute_degree()"
   ]
  },
  {
   "cell_type": "code",
   "execution_count": 5,
   "id": "9836c01a-16b5-4f63-954b-b85203231183",
   "metadata": {},
   "outputs": [
    {
     "data": {
      "text/plain": [
       "Univariate Polynomial Ring in x over Number Field in b with defining polynomial x^2 - 3 over its base field"
      ]
     },
     "execution_count": 5,
     "metadata": {},
     "output_type": "execute_result"
    }
   ],
   "source": [
    "#form the polynomial ring K[x]\n",
    "S.<x> = PolynomialRing(K); S"
   ]
  },
  {
   "cell_type": "code",
   "execution_count": 6,
   "id": "48e395f9-1f9d-4c5d-9e22-1caa0491c08c",
   "metadata": {},
   "outputs": [],
   "source": [
    "#define the \"secret\" polynomial h(x)\n",
    "h = x^3+x+1"
   ]
  },
  {
   "cell_type": "code",
   "execution_count": 7,
   "id": "2a6b3dbb-f7d0-4783-98b4-3ae08dd5b70d",
   "metadata": {},
   "outputs": [
    {
     "data": {
      "text/plain": [
       "True"
      ]
     },
     "execution_count": 7,
     "metadata": {},
     "output_type": "execute_result"
    }
   ],
   "source": [
    "#check that h is irreducible\n",
    "h.is_irreducible()"
   ]
  },
  {
   "cell_type": "code",
   "execution_count": 9,
   "id": "b1e1d825-bd2b-4c59-ad53-ebaada8da6d7",
   "metadata": {},
   "outputs": [],
   "source": [
    "#form the splitting field. note the degree [L:\\Q] = [L:K]*{K:\\Q} = [L:K]*4 <= 4*3! = 24\n",
    "#in general, for a random polynomial h(x), the Galois group will be S_n where n = deg(h)\n",
    "#use map=True to recover an embedding\n",
    "#if K/\\Q is Galois, then the embeddings will be conjugate by an element of Gal(K/\\Q)\n",
    "L.<c>, phi = h.splitting_field(map=True)"
   ]
  },
  {
   "cell_type": "code",
   "execution_count": 10,
   "id": "d74f9bca-f1a6-4dc4-935e-ecf5b2ea4f55",
   "metadata": {},
   "outputs": [
    {
     "data": {
      "text/plain": [
       "Number Field in c with defining polynomial x^24 + 12*x^23 + 146*x^22 + 1108*x^21 + 8173*x^20 + 46684*x^19 + 257418*x^18 + 1174680*x^17 + 5177107*x^16 + 19317228*x^15 + 70108922*x^14 + 216897568*x^13 + 664178197*x^12 + 1737105412*x^11 + 4636302384*x^10 + 10507080420*x^9 + 25152723457*x^8 + 49729238100*x^7 + 106531094052*x^6 + 173987756068*x^5 + 316467659715*x^4 + 369553671392*x^3 + 542438696332*x^2 + 359375928808*x + 409108443649"
      ]
     },
     "execution_count": 10,
     "metadata": {},
     "output_type": "execute_result"
    }
   ],
   "source": [
    "L"
   ]
  },
  {
   "cell_type": "code",
   "execution_count": 28,
   "id": "4e138a97-5cdf-4aa4-b8c5-6e8093bb6151",
   "metadata": {},
   "outputs": [
    {
     "data": {
      "text/plain": [
       "-39117701317451245864477695774528033735799748/1200357433844231272722257398552099000629*c^23 - 2133642965760713970535166558903855195651152/4939742526107947624371429623671189303*c^22 - 358748437178237250974826465002429275899658496/70609260814366545454250435208947000037*c^21 - 48190005645189696240854735375334477321787613977/1200357433844231272722257398552099000629*c^20 - 347102032061566961543870088057887172674552117236/1200357433844231272722257398552099000629*c^19 - 676845793610364625751371561737322924211603973184/400119144614743757574085799517366333543*c^18 - 10962509073071347781090521096478975739690475701973/1200357433844231272722257398552099000629*c^17 - 5654529199429695374584631232197512591803192517867/133373048204914585858028599839122111181*c^16 - 219227166325517466210478938259671640929554691942428/1200357433844231272722257398552099000629*c^15 - 829947097146998081605209198217273214379513951484300/1200357433844231272722257398552099000629*c^14 - 2926676834855228989523547590152627916297748913332800/1200357433844231272722257398552099000629*c^13 - 9190632150350962292203537882923747925810996438043911/1200357433844231272722257398552099000629*c^12 - 9022721375950614418818437244915816921275303012723948/400119144614743757574085799517366333543*c^11 - 72187653295325264886695692774104506573724218469721207/1200357433844231272722257398552099000629*c^10 - 182750962921272679041166621274446959211833517577178532/1200357433844231272722257398552099000629*c^9 - 142352776688054833143789934114125579948467713996192723/400119144614743757574085799517366333543*c^8 - 950665600715673293558587121281542480244909056414179212/1200357433844231272722257398552099000629*c^7 - 1976635875208983423618267728421970847293455856173842206/1200357433844231272722257398552099000629*c^6 - 38472983276451409819328451571430480465327917094191120/12124822564083144168911690894465646471*c^5 - 6698978084599836910827354268743080656033263079082190535/1200357433844231272722257398552099000629*c^4 - 163551881513321043128985498306976378693043559265141387/19677990718757889716758318009050803289*c^3 - 13230287209496295275112113571560607988358860591453148278/1200357433844231272722257398552099000629*c^2 - 11666041405699240662213388572560184679093796549296265020/1200357433844231272722257398552099000629*c - 1234412724309784483489594851287616577759240382550686426/133373048204914585858028599839122111181"
      ]
     },
     "execution_count": 28,
     "metadata": {},
     "output_type": "execute_result"
    }
   ],
   "source": [
    "#we can compute embeddings of elements of K, so \\Q-linear combinations of {1,\\sqrt{2},\\sqrt{3},\\sqrt{6}}\n",
    "sqrt2 = sqrt(K(2))\n",
    "sqrt3 = sqrt(K(3))\n",
    "sqrt6 = sqrt(K(6))\n",
    "phi(100000000+1321312312321314*sqrt2+1231234141*sqrt3+sqrt6)"
   ]
  },
  {
   "cell_type": "code",
   "execution_count": null,
   "id": "e980b8a5-fcf0-4e28-a667-4e2d4f462afd",
   "metadata": {},
   "outputs": [],
   "source": []
  }
 ],
 "metadata": {
  "kernelspec": {
   "display_name": "SageMath 10.4",
   "language": "sage",
   "name": "sagemath-10.4"
  },
  "language_info": {
   "codemirror_mode": {
    "name": "ipython",
    "version": 3
   },
   "file_extension": ".py",
   "mimetype": "text/x-python",
   "name": "python",
   "nbconvert_exporter": "python",
   "pygments_lexer": "ipython3",
   "version": "3.12.4"
  }
 },
 "nbformat": 4,
 "nbformat_minor": 5
}
