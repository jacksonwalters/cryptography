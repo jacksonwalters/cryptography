{
 "cells": [
  {
   "cell_type": "code",
   "execution_count": 1,
   "id": "07dbb078-d1ef-4a20-856d-fd38d56fcf94",
   "metadata": {},
   "outputs": [],
   "source": [
    "from concrete import fhe"
   ]
  },
  {
   "cell_type": "code",
   "execution_count": 7,
   "id": "ac690b96-a759-4394-8ab1-184e4cf3f29b",
   "metadata": {},
   "outputs": [
    {
     "name": "stdout",
     "output_type": "stream",
     "text": [
      "Python 3.10.0\n"
     ]
    }
   ],
   "source": [
    "!python -V"
   ]
  },
  {
   "cell_type": "code",
   "execution_count": null,
   "id": "2f3442ae-4ad3-4cd1-ad46-b62a4da279c1",
   "metadata": {},
   "outputs": [],
   "source": []
  }
 ],
 "metadata": {
  "kernelspec": {
   "display_name": "venv-crypto",
   "language": "python",
   "name": "venv-crypto"
  },
  "language_info": {
   "codemirror_mode": {
    "name": "ipython",
    "version": 3
   },
   "file_extension": ".py",
   "mimetype": "text/x-python",
   "name": "python",
   "nbconvert_exporter": "python",
   "pygments_lexer": "ipython3",
   "version": "3.10.0"
  }
 },
 "nbformat": 4,
 "nbformat_minor": 5
}
