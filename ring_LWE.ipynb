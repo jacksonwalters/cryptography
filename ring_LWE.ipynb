{
 "cells": [
  {
   "cell_type": "code",
   "execution_count": 1,
   "id": "a4cbf02f-85a3-4755-b13d-4649036293ef",
   "metadata": {},
   "outputs": [],
   "source": [
    "#some notes and examples of ring LWE (see: Regev, Peikert, Lyubashevsky)"
   ]
  },
  {
   "cell_type": "code",
   "execution_count": 18,
   "id": "55b46967-a4a9-422e-9e32-e61e4c2c28be",
   "metadata": {},
   "outputs": [],
   "source": [
    "from sage.crypto.lwe import samples, LindnerPeikert"
   ]
  },
  {
   "cell_type": "code",
   "execution_count": 9,
   "id": "9d99eddf-76c4-4a67-a4f3-8a826adbefe3",
   "metadata": {},
   "outputs": [
    {
     "data": {
      "text/plain": [
       "30"
      ]
     },
     "execution_count": 9,
     "metadata": {},
     "output_type": "execute_result"
    }
   ],
   "source": [
    "S = samples(30, 20, 'Regev'); len(S)"
   ]
  },
  {
   "cell_type": "code",
   "execution_count": 8,
   "id": "510caea4-a444-4f9f-850a-4a002a3bf9d2",
   "metadata": {},
   "outputs": [
    {
     "data": {
      "text/plain": [
       "30"
      ]
     },
     "execution_count": 8,
     "metadata": {},
     "output_type": "execute_result"
    }
   ],
   "source": [
    "S = samples(30, 20, LindnerPeikert); len(S)"
   ]
  },
  {
   "cell_type": "code",
   "execution_count": 10,
   "id": "30404477-00b1-4b61-950f-c9eefe3adeb5",
   "metadata": {},
   "outputs": [],
   "source": [
    "from sage.crypto.lwe import RingLWE"
   ]
  },
  {
   "cell_type": "code",
   "execution_count": 11,
   "id": "3485e1f1-5ce6-4103-b24e-07646a81827f",
   "metadata": {},
   "outputs": [],
   "source": [
    "from sage.stats.distributions.discrete_gaussian_polynomial import DiscreteGaussianDistributionPolynomialSampler"
   ]
  },
  {
   "cell_type": "code",
   "execution_count": 12,
   "id": "03398e8c-ee2f-4f2f-ba06-28ed446f3d42",
   "metadata": {},
   "outputs": [],
   "source": [
    "D = DiscreteGaussianDistributionPolynomialSampler(ZZ['x'], euler_phi(16), 5)"
   ]
  },
  {
   "cell_type": "code",
   "execution_count": 13,
   "id": "6101f3f0-dad1-46c7-b5d3-ba36731c5775",
   "metadata": {},
   "outputs": [],
   "source": [
    "ringlwe = RingLWE(16, 257, D, secret_dist='uniform')"
   ]
  },
  {
   "cell_type": "code",
   "execution_count": 14,
   "id": "b9fdd268-1696-4a19-b7b9-39f21b39b010",
   "metadata": {},
   "outputs": [
    {
     "data": {
      "text/plain": [
       "Vector space of dimension 8 over Ring of integers modulo 257"
      ]
     },
     "execution_count": 14,
     "metadata": {},
     "output_type": "execute_result"
    }
   ],
   "source": [
    "p = samples(30, euler_phi(16), ringlwe)[0][0].parent(); p"
   ]
  },
  {
   "cell_type": "code",
   "execution_count": 15,
   "id": "29c7ba53-2a50-4554-9925-094f102a67ae",
   "metadata": {},
   "outputs": [],
   "source": [
    "assert all(c.parent() is p for b in samples(30, euler_phi(16), ringlwe) for c in b)"
   ]
  },
  {
   "cell_type": "code",
   "execution_count": 17,
   "id": "1e7a679e-fcae-4865-9b72-be9a4dedfce1",
   "metadata": {},
   "outputs": [],
   "source": [
    "for s in samples(30, 20, 'Regev', balanced=True):\n",
    "    s1 = list(s[0]) + [s[1]]\n",
    "    assert all(-401//2 <= b <= 401//2 for b in s1)"
   ]
  },
  {
   "cell_type": "code",
   "execution_count": null,
   "id": "ac894055-38cf-4dea-b111-3e2956565532",
   "metadata": {},
   "outputs": [],
   "source": []
  }
 ],
 "metadata": {
  "kernelspec": {
   "display_name": "SageMath 10.4",
   "language": "sage",
   "name": "sagemath-10.4"
  },
  "language_info": {
   "codemirror_mode": {
    "name": "ipython",
    "version": 3
   },
   "file_extension": ".py",
   "mimetype": "text/x-python",
   "name": "python",
   "nbconvert_exporter": "python",
   "pygments_lexer": "ipython3",
   "version": "3.12.4"
  }
 },
 "nbformat": 4,
 "nbformat_minor": 5
}
