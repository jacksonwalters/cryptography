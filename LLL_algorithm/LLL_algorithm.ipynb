{
 "cells": [
  {
   "cell_type": "code",
   "execution_count": 1,
   "id": "56aede3c-8e06-4e5b-9fa8-37069a820afc",
   "metadata": {},
   "outputs": [],
   "source": [
    "#explore the LLM algorithm as given in \\S 7.13 in [HPS]"
   ]
  },
  {
   "cell_type": "code",
   "execution_count": 1,
   "id": "01d7e8b8-0ca1-4ea5-9e1c-cce989cb596b",
   "metadata": {},
   "outputs": [
    {
     "data": {
      "text/plain": [
       "[ 0  0  0]\n",
       "[ 2  1  0]\n",
       "[-1  1  3]"
      ]
     },
     "execution_count": 1,
     "metadata": {},
     "output_type": "execute_result"
    }
   ],
   "source": [
    "A = Matrix(ZZ,3,3,range(1,10))\n",
    "A.LLL()"
   ]
  },
  {
   "cell_type": "code",
   "execution_count": 445,
   "id": "3cc6f174-30be-4f21-ab69-69c6b0673305",
   "metadata": {},
   "outputs": [],
   "source": [
    "#simple implementation of the LLL lattice basis reduction algorithm\n",
    "def simple_LLL(v):\n",
    "    n = v.ncols()\n",
    "    k = 1\n",
    "    delta = .15\n",
    "    mu, v_star = v.gram_schmidt()\n",
    "    while k < n:\n",
    "        for j in range(k-1,-1,-1):\n",
    "            mu_kj = v_star[k] * v_star[j] / (v_star[j] * v_star[j])\n",
    "            v[k] = v[k] - round(mu_kj)*v[j]\n",
    "            mu, v_star = v.gram_schmidt()\n",
    "        if v_star[k]*v_star[k] >= (3/4 + delta - mu[k,k-1]**2)*(v_star[k-1]*v_star[k-1]):\n",
    "            k += 1\n",
    "        else:\n",
    "            temp = v[k]\n",
    "            v[k] = v[k-1]\n",
    "            v[k-1] = temp\n",
    "            k = max(k-1,1)\n",
    "    return v"
   ]
  },
  {
   "cell_type": "code",
   "execution_count": 425,
   "id": "5da5b7b3-c855-40a2-957f-dbaaf95940a2",
   "metadata": {},
   "outputs": [],
   "source": [
    "#compute the Hadamard ratio of a basis which is the volume of the fundamental domain \n",
    "#relative to what it would be if the basis were the vectors orthogonal\n",
    "def hadamard_ratio(basis):\n",
    "    return ((abs(basis.det())/prod(norm(b) for b in basis))**(1/basis.ncols())).n()"
   ]
  },
  {
   "cell_type": "code",
   "execution_count": 455,
   "id": "d532dd14-dce8-4114-9fdd-7f8f1d4d5978",
   "metadata": {},
   "outputs": [
    {
     "name": "stdout",
     "output_type": "stream",
     "text": [
      "[  -1   -2    4    1    2  -11]\n",
      "[   2    0   -1    1    0   -2]\n",
      "[-343   -1    0   -1   -1   -1]\n",
      "[ -42    0   -1    2   -2    0]\n",
      "[  -1    1    0   -1    1    1]\n",
      "[   0    1    2    0   -1    0] 0.392349256199628\n",
      "-------\n",
      "[  -1   -2    4    1    2  -11]\n",
      "[   2    0   -1    1    0   -2]\n",
      "[-152   25 -141   75  -27  -36]\n",
      "[ 280  -44  264 -143   50   78]\n",
      "[ -20    5  -17   10   -1  -10]\n",
      "[   0    1    2    0   -1    0] 0.185429479325801\n",
      "--------\n",
      "[ 1  1 -1  0  1 -1]\n",
      "[ 1 -1  0  1 -1 -1]\n",
      "[ 0  1  2  0 -1  0]\n",
      "[ 0  2 -5 -4 -6  2]\n",
      "[-4  0 -2 -5 -2 -6]\n",
      "[ 6 -6  4 -8  4 -2] 0.965562887328818\n"
     ]
    }
   ],
   "source": [
    "C = random_matrix(ZZ,6,6); print(C,hadamard_ratio(C))\n",
    "print(\"-------\")\n",
    "C_simple_LLL = simple_LLL(C); print(C_simple_LLL,hadamard_ratio(C_simple_LLL))\n",
    "print(\"--------\")\n",
    "sage_LLL = C.LLL(); print(sage_LLL,hadamard_ratio(sage_LLL))"
   ]
  },
  {
   "cell_type": "code",
   "execution_count": 417,
   "id": "f61e43de-83c3-4b4d-824b-ef9d6d0d6b65",
   "metadata": {},
   "outputs": [],
   "source": []
  }
 ],
 "metadata": {
  "kernelspec": {
   "display_name": "SageMath 10.4",
   "language": "sage",
   "name": "sagemath-10.4"
  },
  "language_info": {
   "codemirror_mode": {
    "name": "ipython",
    "version": 3
   },
   "file_extension": ".py",
   "mimetype": "text/x-python",
   "name": "python",
   "nbconvert_exporter": "python",
   "pygments_lexer": "ipython3",
   "version": "3.12.4"
  }
 },
 "nbformat": 4,
 "nbformat_minor": 5
}
