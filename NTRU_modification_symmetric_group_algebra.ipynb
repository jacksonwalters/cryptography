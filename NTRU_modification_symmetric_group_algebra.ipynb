{
 "cells": [
  {
   "cell_type": "code",
   "execution_count": 3,
   "id": "d6dce199-b2b1-4541-8ebb-8aafcc23b84c",
   "metadata": {},
   "outputs": [],
   "source": [
    "#attempt to modify NTRU Encrypt by using R_p = F_p[S_N] rather than R_p = F_p[C_N] = F_p[x]/(x^N-1)"
   ]
  },
  {
   "cell_type": "code",
   "execution_count": 4,
   "id": "77514e04-5182-4ff5-bd2d-57db079392c5",
   "metadata": {},
   "outputs": [],
   "source": [
    "#the group of units of the symmetric group algebra are computed in Corollary 3.1, 3.2 of\n",
    "#\"Structure of the Unit Group of the Symmetric Group Algebra\", Abhilash, Nandakumar"
   ]
  },
  {
   "cell_type": "code",
   "execution_count": 2,
   "id": "b8851403-bb51-4ced-868c-b4aa59689478",
   "metadata": {},
   "outputs": [],
   "source": [
    "homomorphic_encryption = False"
   ]
  },
  {
   "cell_type": "code",
   "execution_count": 12,
   "id": "03561ff9-728e-4b5a-b125-9a18ffc0d0c3",
   "metadata": {},
   "outputs": [],
   "source": [
    "#define the parameters\n",
    "N=3; p=5; q=67; d=2\n",
    "assert N.is_prime()\n",
    "assert p.is_prime()\n",
    "assert gcd(N,q) == 1 \n",
    "assert gcd(p,q) == 1\n",
    "assert q > (6*d+1)*p"
   ]
  },
  {
   "cell_type": "code",
   "execution_count": 13,
   "id": "7b4e3181-73c9-46b4-8764-6052cfafe5cf",
   "metadata": {},
   "outputs": [],
   "source": [
    "#define the group\n",
    "#G = CyclicPermutationGroup(N)\n",
    "G = SymmetricGroup(N)"
   ]
  },
  {
   "cell_type": "code",
   "execution_count": 14,
   "id": "7f3b197c-e507-4dca-acb7-4028d32eb185",
   "metadata": {},
   "outputs": [
    {
     "data": {
      "text/plain": [
       "Symmetric group algebra of order 3 over Integer Ring"
      ]
     },
     "execution_count": 14,
     "metadata": {},
     "output_type": "execute_result"
    }
   ],
   "source": [
    "#create the polynomial ring \\Z[x]/(x^N-1)\n",
    "R = G.algebra(ZZ); R"
   ]
  },
  {
   "cell_type": "code",
   "execution_count": 15,
   "id": "ec504eed-c36d-4358-9678-0fd1a25175bf",
   "metadata": {},
   "outputs": [
    {
     "data": {
      "text/plain": [
       "Symmetric group algebra of order 3 over Finite Field of size 5"
      ]
     },
     "execution_count": 15,
     "metadata": {},
     "output_type": "execute_result"
    }
   ],
   "source": [
    "#create the quotient polynomial ring F_p[S_N]\n",
    "R_p = G.algebra(GF(p)); R_p"
   ]
  },
  {
   "cell_type": "code",
   "execution_count": 16,
   "id": "341d1fba-2bd3-4635-b120-656433177cbc",
   "metadata": {},
   "outputs": [
    {
     "data": {
      "text/plain": [
       "Symmetric group algebra of order 3 over Ring of integers modulo 67"
      ]
     },
     "execution_count": 16,
     "metadata": {},
     "output_type": "execute_result"
    }
   ],
   "source": [
    "#create the symmetric group algebra F_q[S_N]\n",
    "R_q = G.algebra(Zmod(q)); R_q"
   ]
  },
  {
   "cell_type": "code",
   "execution_count": 17,
   "id": "b67fcffe-6e38-448d-ad8f-5ee613bd372e",
   "metadata": {},
   "outputs": [],
   "source": [
    "#a ternary polynomial in R = \\Z[x]/(x^N-1) has d1 coeffs = +1, d2 coeffs = -1\n",
    "def is_ternary(a,d1,d2):\n",
    "    assert a in R\n",
    "    coeffs = [pair[1] for pair in list(a)]\n",
    "    return list(coeffs).count(+1) == d1 and list(coeffs).count(-1) == d2"
   ]
  },
  {
   "cell_type": "code",
   "execution_count": 7,
   "id": "4a4966d1-d0a3-449e-9efb-ac796a04a67c",
   "metadata": {},
   "outputs": [],
   "source": [
    "#create a random unit of the symmetric group algebra over a finite field\n",
    "#essentially if K_q[S_N] \\cong M_{n_1}(K_{q^{m_1}}) \\oplus ... \\oplus M_{n_r}(K_{q^{m_r}}) then\n",
    "#\\mathcal{U}(K_q[S_N]) \\cong GL_{n_1}(K_{q^{m_1}}) \\oplus ... \\oplus GL_{n_r}(K_{q^{m_r}})\n",
    "#and the number n_k, m_k can be read off from the Brattelli diagram.\n",
    "#however, only ~1/p elements are not invertible by determinant considerations, so most elements should be invertible\n",
    "def random_unit_group_algebra(p,n,max_iter=1,ternary=False,d1=0,d2=0):\n",
    "    assert p.is_prime()\n",
    "    for i in range(max_iter):\n",
    "        if ternary:\n",
    "            random_element = rand_ternary(N,d1,d2)\n",
    "        else:\n",
    "            random_element = R.random_element()\n",
    "        try:\n",
    "            R_p(random_element).inverse()\n",
    "            return random_element\n",
    "        except ValueError:\n",
    "            continue\n",
    "    print(\"Could not find invertible element of symmetric group algebra.\")"
   ]
  },
  {
   "cell_type": "code",
   "execution_count": 8,
   "id": "bfcd058d-5248-4dfb-b4f5-3872bf47f62b",
   "metadata": {},
   "outputs": [],
   "source": [
    "#choose a random element of \\mathcal{T}(d_1,d_2)\n",
    "def rand_ternary(N,d1,d2):\n",
    "    group_order = G.cardinality()\n",
    "    assert group_order >= d1 + d2\n",
    "    coeffs = (group_order-(d1+d2))*[0] + d1*[+1] + d2*[-1]\n",
    "    sigma = Permutations(group_order).random_element()\n",
    "    r = sum([coeffs[sigma[i]-1]*R(G[i]) for i in range(group_order)])\n",
    "    assert is_ternary(r,d1,d2)\n",
    "    return r"
   ]
  },
  {
   "cell_type": "code",
   "execution_count": 22,
   "id": "f1ec8c66-bd4a-471a-ba2a-8148ac9316bd",
   "metadata": {},
   "outputs": [
    {
     "name": "stdout",
     "output_type": "stream",
     "text": [
      "(2,3) + 66*(1,2) + (1,2,3) + 66*(1,3,2) + (1,3)\n"
     ]
    }
   ],
   "source": []
  },
  {
   "cell_type": "code",
   "execution_count": 23,
   "id": "48202f07-6c27-401b-9e33-4c7fcb116f2c",
   "metadata": {},
   "outputs": [],
   "source": [
    "#define the private key used to decrypt messages\n",
    "def private_key(f):\n",
    "    return (f,R_q(f).inverse())"
   ]
  },
  {
   "cell_type": "code",
   "execution_count": 24,
   "id": "42a02e6c-6cd0-4716-a5cb-b21726c8c14a",
   "metadata": {},
   "outputs": [],
   "source": [
    "#define the public key using f(x) (mod p), g(x) (mod p)\n",
    "def public_key(f,g,q):\n",
    "    F_q = R_q(f).inverse()\n",
    "    return F_q * R_q(g)"
   ]
  },
  {
   "cell_type": "code",
   "execution_count": 25,
   "id": "09578146-666b-49be-9226-8a6c383a1251",
   "metadata": {},
   "outputs": [
    {
     "name": "stdout",
     "output_type": "stream",
     "text": [
      "66*() + 2*(2,3) + 66*(1,2) + (1,2,3) + 66*(1,3,2)\n"
     ]
    }
   ],
   "source": [
    "print(public_key(f,g,q))"
   ]
  },
  {
   "cell_type": "code",
   "execution_count": 26,
   "id": "4e88ad7d-4ca1-491a-b027-4ba1fa6905ad",
   "metadata": {},
   "outputs": [],
   "source": [
    "#define a plaintext message m(x) with coefficients satisfying -p/2 < m_i <= p/2\n",
    "#i.e. m is the center lift of a polynomial in R_p\n",
    "def plaintext(m,p,N):\n",
    "    assert all([-p/2 < m[i] <= +p/2 for i in range(G.cardinality())])\n",
    "    return sum(m[i]*R(G[i]) for i in range(G.cardinality()))"
   ]
  },
  {
   "cell_type": "code",
   "execution_count": 27,
   "id": "70d25bad-e19a-44bc-9c80-a9269ab962d2",
   "metadata": {},
   "outputs": [],
   "source": [
    "#compute the ciphertext e(x)\n",
    "#note m, f, g are group algebra elements\n",
    "def ciphertext(m,f,g,r,p,q,N,d):\n",
    "    h = public_key(f,g,q)\n",
    "    e = R_q(p*h*r + m)\n",
    "    return e"
   ]
  },
  {
   "cell_type": "code",
   "execution_count": 28,
   "id": "f7db872e-3dd6-4a98-9bd6-62e454d07527",
   "metadata": {},
   "outputs": [],
   "source": [
    "#begin decryption process\n",
    "def a(f,e):\n",
    "    return R_q(f*e)"
   ]
  },
  {
   "cell_type": "code",
   "execution_count": 29,
   "id": "bd5e3104-9e1f-4200-9250-6cacde54f084",
   "metadata": {},
   "outputs": [],
   "source": [
    "#define the center lift of a from R_q to an element of R = \\Z[x]/(x^N-1)\n",
    "#map coefficients from F_q to Z/qZ (the additive group) and center lift them to \\Z\n",
    "def center_lift(a,modulus):\n",
    "    G = R.group()\n",
    "    coeffs = [a[g] for g in G]\n",
    "    center_lift_coeffs = [Zmod(modulus)(coeff).lift_centered() for coeff in coeffs]\n",
    "    return sum(center_lift_coeffs[i]*R(G[i]) for i in range(G.cardinality()))"
   ]
  },
  {
   "cell_type": "code",
   "execution_count": 30,
   "id": "5c4af353-844d-4af0-ae07-a12ae7db72af",
   "metadata": {},
   "outputs": [],
   "source": [
    "#compute b(x) = F_p(x) * a(x) (mod p) by first center lifting a(x) to R\n",
    "def b(f,a,q):\n",
    "    F_p = R_p(f).inverse()\n",
    "    return R_p(F_p * center_lift(a,q))"
   ]
  },
  {
   "cell_type": "code",
   "execution_count": 31,
   "id": "5a52cbec-dc74-4885-869e-47d184e7d415",
   "metadata": {},
   "outputs": [],
   "source": [
    "#define the final center_lift for decryption where e = ciphertext, f = secret key, p = prime, q = modulus\n",
    "def decrypt(e,f,p,q):\n",
    "    return center_lift(b(f,a(f,e),q),p)"
   ]
  },
  {
   "cell_type": "code",
   "execution_count": 42,
   "id": "6c6d8769-9f34-4215-88e1-64e072716a39",
   "metadata": {},
   "outputs": [],
   "source": [
    "#EXAMPLE"
   ]
  },
  {
   "cell_type": "code",
   "execution_count": 61,
   "id": "52df1282-1497-475e-8914-39dd23baf7eb",
   "metadata": {},
   "outputs": [],
   "source": [
    "#ex. for cyclic group from [HPS] text with (N=7, p=3, q=41, d=2)\n",
    "#f_coeffs = [-1,0,1,1,-1,0,1]\n",
    "#f = sum([f_coeffs[i]*R(G[i]) for i in range(G.cardinality())]); f\n",
    "#g_coeffs = [0,-1,-1,0,1,0,1]\n",
    "#g = sum([g_coeffs[i]*R(G[i]) for i in range(G.cardinality())]); g\n",
    "#message = [1,-1,1,1,0,-1,0]; message\n",
    "#r_coeffs = [-1,1,0,0,0,-1,1]\n",
    "#r = sum([r_coeffs[i]*R(G[i]) for i in range(G.cardinality())]); r"
   ]
  },
  {
   "cell_type": "code",
   "execution_count": 52,
   "id": "9bf0cfa3-5563-4039-9e91-91eb499e0fa0",
   "metadata": {},
   "outputs": [
    {
     "name": "stdout",
     "output_type": "stream",
     "text": [
      "() + (2,3) - (1,2) + (1,3,2) - (1,3)\n"
     ]
    }
   ],
   "source": [
    "#create an element f of R = \\ZZ[S_N] which is invertible in R_p = F_p[S_N]\n",
    "f = random_unit_group_algebra(p,N,max_iter=100,ternary=True,d1=d+1,d2=d)\n",
    "print(f)"
   ]
  },
  {
   "cell_type": "code",
   "execution_count": 54,
   "id": "5dbb0915-a8e4-48fc-a9fc-8b868e9216a2",
   "metadata": {},
   "outputs": [
    {
     "name": "stdout",
     "output_type": "stream",
     "text": [
      "4*() + (1,2) + 4*(1,2,3) + (1,3,2) + (1,3)\n"
     ]
    }
   ],
   "source": [
    "#compute F_p(x) = f(x)^{-1} (mod p)\n",
    "F_p = R_p(f).inverse(); print(F_p)\n",
    "assert F_p * R_p(f) == 1"
   ]
  },
  {
   "cell_type": "code",
   "execution_count": 55,
   "id": "1fefb90e-6f57-47be-b3ef-b46e52b96aa3",
   "metadata": {},
   "outputs": [
    {
     "name": "stdout",
     "output_type": "stream",
     "text": [
      "15*() + 8*(2,3) + 52*(1,2) + 15*(1,2,3) + 60*(1,3,2) + 52*(1,3)\n"
     ]
    }
   ],
   "source": [
    "#compute F_q(x) = f(x)^{-1} (mod q)\n",
    "F_q = R_q(f).inverse(); print(F_q)\n",
    "assert F_q * R_q(f) == 1"
   ]
  },
  {
   "cell_type": "code",
   "execution_count": 56,
   "id": "f23a71cc-cdc9-4e52-8304-52752ac301e2",
   "metadata": {},
   "outputs": [
    {
     "name": "stdout",
     "output_type": "stream",
     "text": [
      "(2,3) - (1,2) + (1,2,3) - (1,3,2)\n"
     ]
    }
   ],
   "source": [
    "#create an element g of R = \\ZZ[S_N] which is invertible in R_p = F_p[S_N]\n",
    "g = rand_ternary(N,d,d)\n",
    "print(g)"
   ]
  },
  {
   "cell_type": "code",
   "execution_count": 59,
   "id": "dd849074-a7f0-4566-bc82-9fe117bb2684",
   "metadata": {},
   "outputs": [
    {
     "data": {
      "text/plain": [
       "[1, -1, 1, 1, 0, -1]"
      ]
     },
     "execution_count": 59,
     "metadata": {},
     "output_type": "execute_result"
    }
   ],
   "source": [
    "message = [1,-1,1,1,0,-1]; message"
   ]
  },
  {
   "cell_type": "code",
   "execution_count": 62,
   "id": "d016598e-03bd-43e5-a273-eaf45db14272",
   "metadata": {},
   "outputs": [
    {
     "data": {
      "text/plain": [
       "() + (2,3) - (1,2) + (1,2,3) - (1,3,2)"
      ]
     },
     "execution_count": 62,
     "metadata": {},
     "output_type": "execute_result"
    }
   ],
   "source": [
    "#create the polynomial from the plaintext of the message\n",
    "m = plaintext(message,p,N); m"
   ]
  },
  {
   "cell_type": "code",
   "execution_count": 64,
   "id": "5062cb18-9e90-47bc-b5e3-919295a4d9fe",
   "metadata": {},
   "outputs": [
    {
     "data": {
      "text/plain": [
       "() - (1,2,3) + (1,3,2) - (1,3)"
      ]
     },
     "execution_count": 64,
     "metadata": {},
     "output_type": "execute_result"
    }
   ],
   "source": [
    "#create a random ternary element\n",
    "r = rand_ternary(N,d,d); r"
   ]
  },
  {
   "cell_type": "code",
   "execution_count": null,
   "id": "89d0663c-d2a7-4bdd-a1b0-58cc75f8e643",
   "metadata": {},
   "outputs": [],
   "source": [
    "h = public_key(f,g,q); h"
   ]
  },
  {
   "cell_type": "code",
   "execution_count": null,
   "id": "5400f175-25a8-4176-b272-95228ff9a7a7",
   "metadata": {},
   "outputs": [],
   "source": [
    "R_q(p*h*r + m)"
   ]
  },
  {
   "cell_type": "code",
   "execution_count": null,
   "id": "33dadc98-cc3f-438e-bd67-e6dfdd5011fb",
   "metadata": {},
   "outputs": [],
   "source": [
    "e = ciphertext(m,f,g,r,p,q,N,d); e"
   ]
  },
  {
   "cell_type": "code",
   "execution_count": null,
   "id": "f31dac3d-140c-416a-b164-7dcc11063bda",
   "metadata": {},
   "outputs": [],
   "source": [
    "center_lift(a(f,e),q)"
   ]
  },
  {
   "cell_type": "code",
   "execution_count": null,
   "id": "ed6a3bc5-0694-48c9-9646-860174f302b7",
   "metadata": {},
   "outputs": [],
   "source": [
    "F_p"
   ]
  },
  {
   "cell_type": "code",
   "execution_count": null,
   "id": "880e9b23-2141-4496-9439-591c8bcc17b9",
   "metadata": {},
   "outputs": [],
   "source": [
    "F_p * center_lift(a(f,e),q)"
   ]
  },
  {
   "cell_type": "code",
   "execution_count": null,
   "id": "faedcda3-1a70-4220-8202-e27ee62b5dc3",
   "metadata": {},
   "outputs": [],
   "source": [
    "b(f,a(f,e),q)"
   ]
  },
  {
   "cell_type": "code",
   "execution_count": null,
   "id": "45a1b52b-4736-48a6-8711-b074aaf6b9c2",
   "metadata": {},
   "outputs": [],
   "source": [
    "decrypt(e,f,p,q)"
   ]
  },
  {
   "cell_type": "code",
   "execution_count": null,
   "id": "250d1d00-ad5c-44a4-b526-042a1e6a611e",
   "metadata": {},
   "outputs": [],
   "source": [
    "decrypt(e,f,p,q) == m"
   ]
  },
  {
   "cell_type": "code",
   "execution_count": null,
   "id": "58456417-8ee8-4e52-9e43-81ea43acc7fe",
   "metadata": {},
   "outputs": [],
   "source": []
  }
 ],
 "metadata": {
  "kernelspec": {
   "display_name": "SageMath 10.4",
   "language": "sage",
   "name": "sagemath-10.4"
  },
  "language_info": {
   "codemirror_mode": {
    "name": "ipython",
    "version": 3
   },
   "file_extension": ".py",
   "mimetype": "text/x-python",
   "name": "python",
   "nbconvert_exporter": "python",
   "pygments_lexer": "ipython3",
   "version": "3.12.4"
  }
 },
 "nbformat": 4,
 "nbformat_minor": 5
}
