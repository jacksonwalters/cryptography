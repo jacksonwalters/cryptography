{
 "cells": [
  {
   "cell_type": "code",
   "execution_count": 37,
   "id": "d6dce199-b2b1-4541-8ebb-8aafcc23b84c",
   "metadata": {},
   "outputs": [],
   "source": [
    "#attempt to modify NTRU Encrypt by using R_p = F_p[S_N] rather than R_p = F_p[C_N] = F_p[x]/(x^N-1)"
   ]
  },
  {
   "cell_type": "code",
   "execution_count": 59,
   "id": "77514e04-5182-4ff5-bd2d-57db079392c5",
   "metadata": {},
   "outputs": [],
   "source": [
    "#the group of units of the symmetric group algebra are computed in Corollary 3.1, 3.2 of\n",
    "#\"Structure of the Unit Group of the Symmetric Group Algebra\", Abhilash, Nandakumar"
   ]
  },
  {
   "cell_type": "code",
   "execution_count": 2,
   "id": "b8851403-bb51-4ced-868c-b4aa59689478",
   "metadata": {},
   "outputs": [],
   "source": [
    "homomorphic_encryption = False"
   ]
  },
  {
   "cell_type": "code",
   "execution_count": 1,
   "id": "03561ff9-728e-4b5a-b125-9a18ffc0d0c3",
   "metadata": {},
   "outputs": [],
   "source": [
    "#define the parameters\n",
    "N=3; p=11; q=41; d=2\n",
    "assert N.is_prime()\n",
    "assert p.is_prime()\n",
    "assert gcd(N,q) == 1 \n",
    "assert gcd(p,q) == 1\n",
    "#assert q > (6*d+1)*p"
   ]
  },
  {
   "cell_type": "code",
   "execution_count": 4,
   "id": "7f3b197c-e507-4dca-acb7-4028d32eb185",
   "metadata": {},
   "outputs": [
    {
     "data": {
      "text/plain": [
       "Symmetric group algebra of order 3 over Integer Ring"
      ]
     },
     "execution_count": 4,
     "metadata": {},
     "output_type": "execute_result"
    }
   ],
   "source": [
    "#create the polynomial ring \\Z[x]/(x^N-1)\n",
    "R = SymmetricGroupAlgebra(ZZ,N); R"
   ]
  },
  {
   "cell_type": "code",
   "execution_count": 5,
   "id": "ed6c2224-cb4b-465b-826c-70a60865c221",
   "metadata": {},
   "outputs": [],
   "source": [
    "#a ternary polynomial in R = \\Z[x]/(x^N-1) has d1 coeffs = +1, d2 coeffs = -1\n",
    "def is_ternary(a,d1,d2):\n",
    "    assert a in R\n",
    "    coeffs = [pair[1] for pair in list(a)]\n",
    "    return list(coeffs).count(+1) == d1 and list(coeffs).count(-1) == d2"
   ]
  },
  {
   "cell_type": "code",
   "execution_count": 6,
   "id": "10facc15-026f-449a-ba5d-fc04d59f5403",
   "metadata": {},
   "outputs": [
    {
     "data": {
      "text/plain": [
       "Symmetric group algebra of order 3 over Finite Field of size 41"
      ]
     },
     "execution_count": 6,
     "metadata": {},
     "output_type": "execute_result"
    }
   ],
   "source": [
    "#create the symmetric group algebra F_q[S_N]\n",
    "R_q = SymmetricGroupAlgebra(GF(q),N); R_q"
   ]
  },
  {
   "cell_type": "code",
   "execution_count": 7,
   "id": "ec504eed-c36d-4358-9678-0fd1a25175bf",
   "metadata": {},
   "outputs": [
    {
     "data": {
      "text/plain": [
       "Symmetric group algebra of order 3 over Finite Field of size 11"
      ]
     },
     "execution_count": 7,
     "metadata": {},
     "output_type": "execute_result"
    }
   ],
   "source": [
    "#create the quotient polynomial ring F_p[S_N]\n",
    "R_p = SymmetricGroupAlgebra(GF(p),N); R_p"
   ]
  },
  {
   "cell_type": "code",
   "execution_count": 144,
   "id": "4a4966d1-d0a3-449e-9efb-ac796a04a67c",
   "metadata": {},
   "outputs": [],
   "source": [
    "#create a random unit of the symmetric group algebra over a finite field\n",
    "#essentially if K_q[S_N] \\cong M_{n_1}(K_{q^{m_1}}) \\oplus ... \\oplus M_{n_r}(K_{q^{m_r}}) then\n",
    "#\\mathcal{U}(K_q[S_N]) \\cong GL_{n_1}(K_{q^{m_1}}) \\oplus ... \\oplus GL_{n_r}(K_{q^{m_r}})\n",
    "#and the number n_k, m_k can be read off from the Brattelli diagram.\n",
    "#however, only ~1/p elements are not invertible by determinant considerations, so most elements should be invertible\n",
    "def random_unit_SGA(p,n,max_iter=1):\n",
    "    assert p.is_prime()\n",
    "    for i in range(max_iter):\n",
    "        random_element = R.random_element()\n",
    "        try:\n",
    "            R_p(random_element).inverse()\n",
    "            return random_element\n",
    "        except ValueError:\n",
    "            continue\n",
    "    print(\"Could not find invertible element of symmetric group algebra.\")"
   ]
  },
  {
   "cell_type": "code",
   "execution_count": 151,
   "id": "2daedb95-09ce-4723-9342-9caa9d747003",
   "metadata": {},
   "outputs": [
    {
     "name": "stdout",
     "output_type": "stream",
     "text": [
      "-[1, 3, 2] + 5*[2, 3, 1]\n"
     ]
    }
   ],
   "source": [
    "#create an element f of R = \\ZZ[S_N] which is invertible in R_p = F_p[S_N]\n",
    "f = random_unit_SGA(p,N,max_iter=100)\n",
    "#assert is_ternary(f,d+1,d)\n",
    "print(f)"
   ]
  },
  {
   "cell_type": "code",
   "execution_count": 154,
   "id": "ee982884-636d-4cca-b779-88af94e03c23",
   "metadata": {},
   "outputs": [
    {
     "name": "stdout",
     "output_type": "stream",
     "text": [
      "2*[1, 3, 2] + [2, 3, 1]\n"
     ]
    }
   ],
   "source": [
    "#create an element g of R = \\ZZ[S_N] which is invertible in R_p = F_p[S_N]\n",
    "g = random_unit_SGA(p,N,max_iter=100)\n",
    "#assert is_ternary(g,d,d)\n",
    "print(g)"
   ]
  },
  {
   "cell_type": "code",
   "execution_count": 155,
   "id": "a58413dd-3f40-4d7c-ad6a-9c9165cf9be8",
   "metadata": {},
   "outputs": [
    {
     "name": "stdout",
     "output_type": "stream",
     "text": [
      "6*[1, 3, 2] + 8*[3, 1, 2]\n"
     ]
    }
   ],
   "source": [
    "#compute F_p(x) = f(x)^{-1} (mod p)\n",
    "F_p = R_p(f).inverse(); print(F_p)\n",
    "assert F_p * R_p(f) == 1"
   ]
  },
  {
   "cell_type": "code",
   "execution_count": 156,
   "id": "f1ec8c66-bd4a-471a-ba2a-8148ac9316bd",
   "metadata": {},
   "outputs": [
    {
     "name": "stdout",
     "output_type": "stream",
     "text": [
      "12*[1, 3, 2] + 19*[3, 1, 2]\n"
     ]
    }
   ],
   "source": [
    "#compute F_q(x) = f(x)^{-1} (mod q)\n",
    "F_q = R_q(f).inverse(); print(F_q)\n",
    "assert F_q * R_q(f) == 1"
   ]
  },
  {
   "cell_type": "code",
   "execution_count": null,
   "id": "48202f07-6c27-401b-9e33-4c7fcb116f2c",
   "metadata": {},
   "outputs": [],
   "source": []
  }
 ],
 "metadata": {
  "kernelspec": {
   "display_name": "SageMath 10.4",
   "language": "sage",
   "name": "sagemath-10.4"
  },
  "language_info": {
   "codemirror_mode": {
    "name": "ipython",
    "version": 3
   },
   "file_extension": ".py",
   "mimetype": "text/x-python",
   "name": "python",
   "nbconvert_exporter": "python",
   "pygments_lexer": "ipython3",
   "version": "3.12.4"
  }
 },
 "nbformat": 4,
 "nbformat_minor": 5
}
