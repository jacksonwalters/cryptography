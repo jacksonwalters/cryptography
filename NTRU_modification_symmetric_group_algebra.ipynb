{
 "cells": [
  {
   "cell_type": "code",
   "execution_count": 37,
   "id": "d6dce199-b2b1-4541-8ebb-8aafcc23b84c",
   "metadata": {},
   "outputs": [],
   "source": [
    "#attempt to modify NTRU Encrypt by using R_p = F_p[S_N] rather than R_p = F_p[C_N] = F_p[x]/(x^N-1)"
   ]
  },
  {
   "cell_type": "code",
   "execution_count": 59,
   "id": "77514e04-5182-4ff5-bd2d-57db079392c5",
   "metadata": {},
   "outputs": [],
   "source": [
    "#the group of units of the symmetric group algebra are computed in Corollary 3.1, 3.2 of\n",
    "#\"Structure of the Unit Group of the Symmetric Group Algebra\", Abhilash, Nandakumar"
   ]
  },
  {
   "cell_type": "code",
   "execution_count": 2,
   "id": "b8851403-bb51-4ced-868c-b4aa59689478",
   "metadata": {},
   "outputs": [],
   "source": [
    "homomorphic_encryption = False"
   ]
  },
  {
   "cell_type": "code",
   "execution_count": 1,
   "id": "03561ff9-728e-4b5a-b125-9a18ffc0d0c3",
   "metadata": {},
   "outputs": [],
   "source": [
    "#define the parameters\n",
    "N=3; p=11; q=41; d=2\n",
    "assert N.is_prime()\n",
    "assert p.is_prime()\n",
    "assert gcd(N,q) == 1 \n",
    "assert gcd(p,q) == 1\n",
    "#assert q > (6*d+1)*p"
   ]
  },
  {
   "cell_type": "code",
   "execution_count": 4,
   "id": "7f3b197c-e507-4dca-acb7-4028d32eb185",
   "metadata": {},
   "outputs": [
    {
     "data": {
      "text/plain": [
       "Symmetric group algebra of order 3 over Integer Ring"
      ]
     },
     "execution_count": 4,
     "metadata": {},
     "output_type": "execute_result"
    }
   ],
   "source": [
    "#create the polynomial ring \\Z[x]/(x^N-1)\n",
    "R = SymmetricGroupAlgebra(ZZ,N); R"
   ]
  },
  {
   "cell_type": "code",
   "execution_count": 5,
   "id": "ed6c2224-cb4b-465b-826c-70a60865c221",
   "metadata": {},
   "outputs": [],
   "source": [
    "#a ternary polynomial in R = \\Z[x]/(x^N-1) has d1 coeffs = +1, d2 coeffs = -1\n",
    "def is_ternary(a,d1,d2):\n",
    "    assert a in R\n",
    "    coeffs = [pair[1] for pair in list(a)]\n",
    "    return list(coeffs).count(+1) == d1 and list(coeffs).count(-1) == d2"
   ]
  },
  {
   "cell_type": "code",
   "execution_count": 6,
   "id": "10facc15-026f-449a-ba5d-fc04d59f5403",
   "metadata": {},
   "outputs": [
    {
     "data": {
      "text/plain": [
       "Symmetric group algebra of order 3 over Finite Field of size 41"
      ]
     },
     "execution_count": 6,
     "metadata": {},
     "output_type": "execute_result"
    }
   ],
   "source": [
    "#create the symmetric group algebra F_q[S_N]\n",
    "R_q = SymmetricGroupAlgebra(GF(q),N); R_q"
   ]
  },
  {
   "cell_type": "code",
   "execution_count": 7,
   "id": "ec504eed-c36d-4358-9678-0fd1a25175bf",
   "metadata": {},
   "outputs": [
    {
     "data": {
      "text/plain": [
       "Symmetric group algebra of order 3 over Finite Field of size 11"
      ]
     },
     "execution_count": 7,
     "metadata": {},
     "output_type": "execute_result"
    }
   ],
   "source": [
    "#create the quotient polynomial ring F_p[S_N]\n",
    "R_p = SymmetricGroupAlgebra(GF(p),N); R_p"
   ]
  },
  {
   "cell_type": "code",
   "execution_count": 17,
   "id": "4a4966d1-d0a3-449e-9efb-ac796a04a67c",
   "metadata": {},
   "outputs": [],
   "source": [
    "#create a random unit of the symmetric group algebra\n",
    "#essentially if K_q[S_N] \\cong M_{n_1}(K_{q^{m_1}}) \\oplus ... \\oplus M_{n_r}(K_{q^{m_r}}) then\n",
    "#\\mathcal{U}(K_q[S_N]) \\cong GL_{n_1}(K_{q^{m_1}}) \\oplus ... \\oplus GL_{n_r}(K_{q^{m_r}})\n",
    "#and the number n_k, m_k can be read off from the Brattelli diagram\n",
    "#however, only ~1/p elements are not invertible by determinant considerations, so most elements should be\n",
    "def random_unit_SGA(p,n,max_iter=1):\n",
    "    if p == 1:\n",
    "        SGA = SymmetricGroupAlgebra(ZZ,n)\n",
    "    else:\n",
    "        assert p in Primes\n",
    "        SGA = SymmetricGroupAlgebra(GF(p),n)\n",
    "    for i in range(max_iter):\n",
    "        random_element = SGA.random_element()\n",
    "        try:\n",
    "            random_element.inverse()\n",
    "            return random_element\n",
    "        except ValueError:\n",
    "            continue\n",
    "    print(\"Could not find invertible element of symmetric group algebra.\")"
   ]
  },
  {
   "cell_type": "code",
   "execution_count": 22,
   "id": "bd867abf-14f1-4cd4-903c-2686bcd0155f",
   "metadata": {},
   "outputs": [
    {
     "data": {
      "text/plain": [
       "[2, 1, 3]"
      ]
     },
     "execution_count": 22,
     "metadata": {},
     "output_type": "execute_result"
    }
   ],
   "source": [
    "random_unit_SGA(1,N,max_iter=100)"
   ]
  },
  {
   "cell_type": "code",
   "execution_count": 67,
   "id": "2daedb95-09ce-4723-9342-9caa9d747003",
   "metadata": {},
   "outputs": [],
   "source": [
    "#create an element f of F_p[S_N]\n",
    "f = 1*R(R.group()[0]) + 1*R(R.group()[1])\n",
    "#assert is_ternary(f,d+1,d)"
   ]
  },
  {
   "cell_type": "code",
   "execution_count": 43,
   "id": "ee982884-636d-4cca-b779-88af94e03c23",
   "metadata": {},
   "outputs": [],
   "source": [
    "#create the element g of F_p[S_N]\n",
    "g = 1*R(R.group()[0]) + 1*R(R.group()[1]) - 1*R(R.group()[2]) - 1*R(R.group()[3])\n",
    "#assert is_ternary(g,d,d)"
   ]
  },
  {
   "cell_type": "code",
   "execution_count": 68,
   "id": "a58413dd-3f40-4d7c-ad6a-9c9165cf9be8",
   "metadata": {},
   "outputs": [
    {
     "ename": "ValueError",
     "evalue": "cannot invert self (= [1, 2, 3, 4, 5, 6, 7] + [1, 2, 3, 4, 5, 7, 6])",
     "output_type": "error",
     "traceback": [
      "\u001b[0;31m---------------------------------------------------------------------------\u001b[0m",
      "\u001b[0;31mNotFullRankError\u001b[0m                          Traceback (most recent call last)",
      "File \u001b[0;32m/private/var/tmp/sage-10.4-current/local/var/lib/sage/venv-python3.12.4/lib/python3.12/site-packages/sage/matrix/matrix2.pyx:959\u001b[0m, in \u001b[0;36msage.matrix.matrix2.Matrix.solve_right (build/cythonized/sage/matrix/matrix2.c:16530)\u001b[0;34m()\u001b[0m\n\u001b[1;32m    958\u001b[0m try:\n\u001b[0;32m--> 959\u001b[0m     X = self._solve_right_nonsingular_square(C, check_rank=True)\n\u001b[1;32m    960\u001b[0m except NotFullRankError:\n",
      "File \u001b[0;32m/private/var/tmp/sage-10.4-current/local/var/lib/sage/venv-python3.12.4/lib/python3.12/site-packages/sage/matrix/matrix2.pyx:1001\u001b[0m, in \u001b[0;36msage.matrix.matrix2.Matrix._solve_right_nonsingular_square (build/cythonized/sage/matrix/matrix2.c:16935)\u001b[0;34m()\u001b[0m\n\u001b[1;32m   1000\u001b[0m if check_rank and self.rank() < self.nrows():\n\u001b[0;32m-> 1001\u001b[0m     raise NotFullRankError\n\u001b[1;32m   1002\u001b[0m D = self.augment(B)\n",
      "\u001b[0;31mNotFullRankError\u001b[0m: ",
      "\nDuring handling of the above exception, another exception occurred:\n",
      "\u001b[0;31mValueError\u001b[0m                                Traceback (most recent call last)",
      "File \u001b[0;32m/private/var/tmp/sage-10.4-current/local/var/lib/sage/venv-python3.12.4/lib/python3.12/site-packages/sage/categories/finite_dimensional_algebras_with_basis.py:1312\u001b[0m, in \u001b[0;36mFiniteDimensionalAlgebrasWithBasis.ElementMethods.__invert__\u001b[0;34m(self)\u001b[0m\n\u001b[1;32m   1311\u001b[0m \u001b[38;5;28;01mtry\u001b[39;00m:\n\u001b[0;32m-> 1312\u001b[0m     inv \u001b[38;5;241m=\u001b[39m \u001b[43mA\u001b[49m\u001b[38;5;241;43m.\u001b[39;49m\u001b[43msolve_right\u001b[49m\u001b[43m(\u001b[49m\u001b[43me\u001b[49m\u001b[43m)\u001b[49m\n\u001b[1;32m   1313\u001b[0m     inv\u001b[38;5;241m.\u001b[39mchange_ring(R)\n",
      "File \u001b[0;32m/private/var/tmp/sage-10.4-current/local/var/lib/sage/venv-python3.12.4/lib/python3.12/site-packages/sage/matrix/matrix2.pyx:961\u001b[0m, in \u001b[0;36msage.matrix.matrix2.Matrix.solve_right (build/cythonized/sage/matrix/matrix2.c:16597)\u001b[0;34m()\u001b[0m\n\u001b[1;32m    960\u001b[0m except NotFullRankError:\n\u001b[0;32m--> 961\u001b[0m     X = self._solve_right_general(C, check=check)\n\u001b[1;32m    962\u001b[0m \n",
      "File \u001b[0;32m/private/var/tmp/sage-10.4-current/local/var/lib/sage/venv-python3.12.4/lib/python3.12/site-packages/sage/matrix/matrix2.pyx:1075\u001b[0m, in \u001b[0;36msage.matrix.matrix2.Matrix._solve_right_general (build/cythonized/sage/matrix/matrix2.c:17999)\u001b[0;34m()\u001b[0m\n\u001b[1;32m   1074\u001b[0m     if self*X != B:\n\u001b[0;32m-> 1075\u001b[0m         raise ValueError(\"matrix equation has no solutions\")\n\u001b[1;32m   1076\u001b[0m return X\n",
      "\u001b[0;31mValueError\u001b[0m: matrix equation has no solutions",
      "\nDuring handling of the above exception, another exception occurred:\n",
      "\u001b[0;31mValueError\u001b[0m                                Traceback (most recent call last)",
      "Cell \u001b[0;32mIn[68], line 2\u001b[0m\n\u001b[1;32m      1\u001b[0m \u001b[38;5;66;03m#compute F_p(x) = f(x)^{-1} (mod p)\u001b[39;00m\n\u001b[0;32m----> 2\u001b[0m F_p \u001b[38;5;241m=\u001b[39m R_p(f)\u001b[38;5;241m.\u001b[39minverse(); \u001b[38;5;28mprint\u001b[39m(F_p)\n\u001b[1;32m      3\u001b[0m \u001b[38;5;28;01massert\u001b[39;00m F_p \u001b[38;5;241m*\u001b[39m R_p(f) \u001b[38;5;241m==\u001b[39m Integer(\u001b[38;5;241m1\u001b[39m)\n",
      "File \u001b[0;32m/private/var/tmp/sage-10.4-current/local/var/lib/sage/venv-python3.12.4/lib/python3.12/site-packages/sage/categories/monoids.py:390\u001b[0m, in \u001b[0;36mMonoids.ElementMethods.inverse\u001b[0;34m(self)\u001b[0m\n\u001b[1;32m    376\u001b[0m \u001b[38;5;250m\u001b[39m\u001b[38;5;124;03m\"\"\"\u001b[39;00m\n\u001b[1;32m    377\u001b[0m \u001b[38;5;124;03mReturn the multiplicative inverse of ``self``.\u001b[39;00m\n\u001b[1;32m    378\u001b[0m \n\u001b[0;32m   (...)\u001b[0m\n\u001b[1;32m    387\u001b[0m \u001b[38;5;124;03m    1.414213562373095?\u001b[39;00m\n\u001b[1;32m    388\u001b[0m \u001b[38;5;124;03m\"\"\"\u001b[39;00m\n\u001b[1;32m    389\u001b[0m \u001b[38;5;66;03m# Nota Bene: Element classes should implement ``__invert__`` only.\u001b[39;00m\n\u001b[0;32m--> 390\u001b[0m \u001b[38;5;28;01mreturn\u001b[39;00m \u001b[38;5;28;43mself\u001b[39;49m\u001b[38;5;241;43m.\u001b[39;49m\u001b[38;5;21;43m__invert__\u001b[39;49m\u001b[43m(\u001b[49m\u001b[43m)\u001b[49m\n",
      "File \u001b[0;32m/private/var/tmp/sage-10.4-current/local/var/lib/sage/venv-python3.12.4/lib/python3.12/site-packages/sage/categories/finite_dimensional_algebras_with_basis.py:1316\u001b[0m, in \u001b[0;36mFiniteDimensionalAlgebrasWithBasis.ElementMethods.__invert__\u001b[0;34m(self)\u001b[0m\n\u001b[1;32m   1314\u001b[0m     \u001b[38;5;28;01mreturn\u001b[39;00m alg\u001b[38;5;241m.\u001b[39mfrom_vector(inv)\n\u001b[1;32m   1315\u001b[0m \u001b[38;5;28;01mexcept\u001b[39;00m (\u001b[38;5;167;01mValueError\u001b[39;00m, \u001b[38;5;167;01mTypeError\u001b[39;00m):\n\u001b[0;32m-> 1316\u001b[0m     \u001b[38;5;28;01mraise\u001b[39;00m \u001b[38;5;167;01mValueError\u001b[39;00m(\u001b[38;5;124m\"\u001b[39m\u001b[38;5;124mcannot invert self (= \u001b[39m\u001b[38;5;132;01m%s\u001b[39;00m\u001b[38;5;124m)\u001b[39m\u001b[38;5;124m\"\u001b[39m \u001b[38;5;241m%\u001b[39m \u001b[38;5;28mself\u001b[39m)\n",
      "\u001b[0;31mValueError\u001b[0m: cannot invert self (= [1, 2, 3, 4, 5, 6, 7] + [1, 2, 3, 4, 5, 7, 6])"
     ]
    }
   ],
   "source": [
    "#compute F_p(x) = f(x)^{-1} (mod p)\n",
    "F_p = R_p(f).inverse(); print(F_p)\n",
    "assert F_p * R_p(f) == 1"
   ]
  },
  {
   "cell_type": "code",
   "execution_count": null,
   "id": "f1ec8c66-bd4a-471a-ba2a-8148ac9316bd",
   "metadata": {},
   "outputs": [],
   "source": []
  }
 ],
 "metadata": {
  "kernelspec": {
   "display_name": "SageMath 10.4",
   "language": "sage",
   "name": "sagemath-10.4"
  },
  "language_info": {
   "codemirror_mode": {
    "name": "ipython",
    "version": 3
   },
   "file_extension": ".py",
   "mimetype": "text/x-python",
   "name": "python",
   "nbconvert_exporter": "python",
   "pygments_lexer": "ipython3",
   "version": "3.12.4"
  }
 },
 "nbformat": 4,
 "nbformat_minor": 5
}
