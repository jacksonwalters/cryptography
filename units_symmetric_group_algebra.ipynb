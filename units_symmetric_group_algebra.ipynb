{
 "cells": [
  {
   "cell_type": "code",
   "execution_count": 1,
   "id": "840b76a9-295f-4805-94dd-b168881009b6",
   "metadata": {},
   "outputs": [],
   "source": [
    "#the group of units of the symmetric group algebra are computed in Corollary 3.1, 3.2 of\n",
    "#\"Structure of the Unit Group of the Symmetric Group Algebra\", Abhilash, Nandakumar"
   ]
  },
  {
   "cell_type": "code",
   "execution_count": null,
   "id": "35eac608-7f8b-4fd4-9e12-5bc80a5a9a57",
   "metadata": {},
   "outputs": [],
   "source": [
    "#essentially if K_q[S_N] \\cong M_{n_1}(K_{q^{m_1}}) \\oplus ... \\oplus M_{n_r}(K_{q^{m_r}}) then\n",
    "#\\mathcal{U}(K_q[S_N]) \\cong GL_{n_1}(K_{q^{m_1}}) \\oplus ... \\oplus GL_{n_r}(K_{q^{m_r}})\n",
    "#and the number n_k, m_k can be read off from the Brattelli diagram"
   ]
  },
  {
   "cell_type": "code",
   "execution_count": 2,
   "id": "a8d3f826-60ad-47ca-8caa-4aab1e6e3e5a",
   "metadata": {},
   "outputs": [],
   "source": [
    "#one can use the Artin-Wedderburn decomposition into a sum of matrix algebras, and just replace M_{n_k} by GL_{n_k}"
   ]
  },
  {
   "cell_type": "code",
   "execution_count": null,
   "id": "21a659f6-d955-4ec7-ae07-4de2bde4efa0",
   "metadata": {},
   "outputs": [],
   "source": []
  }
 ],
 "metadata": {
  "kernelspec": {
   "display_name": "Python 3 (ipykernel)",
   "language": "python",
   "name": "python3"
  },
  "language_info": {
   "codemirror_mode": {
    "name": "ipython",
    "version": 3
   },
   "file_extension": ".py",
   "mimetype": "text/x-python",
   "name": "python",
   "nbconvert_exporter": "python",
   "pygments_lexer": "ipython3",
   "version": "3.9.6"
  }
 },
 "nbformat": 4,
 "nbformat_minor": 5
}
