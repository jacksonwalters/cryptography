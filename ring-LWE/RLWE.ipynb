{
 "cells": [
  {
   "cell_type": "code",
   "execution_count": 3,
   "id": "ab2fc896-fc7b-486b-9d63-437422b59b55",
   "metadata": {},
   "outputs": [],
   "source": [
    "from sage.stats.distributions.discrete_gaussian_polynomial import DiscreteGaussianDistributionPolynomialSampler\n",
    "\n",
    "n = 16\n",
    "q = 32768\n",
    "t = 256\n",
    "sigma = 8\n",
    "delta = q//t\n",
    "\n",
    "S.<x> = PolynomialRing(ZZ)\n",
    "R.<zeta> = S.quotient(S.ideal(x**(n) + 1, q))\n",
    "\n",
    "SampleSmallPoly = lambda :  R(DiscreteGaussianDistributionPolynomialSampler(ZZ['x'], n, sigma)())\n",
    "\n",
    "def round_to_nearest(x, delta):\n",
    "    # a // b = floor(a/b), where RHS is rational division\n",
    "    # (a + (b//2))//b ~ floor(a/b + 1/2) = round_to_nearest_int(a/b)\n",
    "    return (x + delta//2) // delta\n",
    "\n",
    "def poly_round(poly, delta):\n",
    "    return R(lift(poly).map_coefficients(lambda c: round_to_nearest(c, delta)))\n"
   ]
  },
  {
   "cell_type": "code",
   "execution_count": 11,
   "id": "ea6cbc48-7651-4c87-91d7-750f448b547f",
   "metadata": {},
   "outputs": [],
   "source": [
    "def keygen():\n",
    "    return SampleSmallPoly()\n",
    "\n",
    "def enc(m, s):\n",
    "    a = R.random_element()\n",
    "    e = SampleSmallPoly()\n",
    "    print(\"s =\", s)\n",
    "    print(\"as + e + delta*m = \", a*s + e + delta*m)\n",
    "    return (a, a*s + e + delta*m)\n",
    "\n",
    "def dec(ct, s):\n",
    "    (a, b) = ct\n",
    "    partial_dec = b - a * s\n",
    "    return R(partial_dec.lift().map_coefficients(lambda c: round_to_nearest(c, delta)))\n",
    "\n",
    "def hom_sum(ct0, ct1):\n",
    "    (a0, b0) = ct0\n",
    "    (a1, b1) = ct1\n",
    "    return (a0+a1, b0+b1)\n",
    "\n",
    "def hom_prod_and_dec(ct0, ct1, s):\n",
    "    (u0, v0) = ct0\n",
    "    (u1, v1) = ct1\n",
    "    num = v0*v1 - s * (u0*v1+v0*u1) + s*s*u0*u1\n",
    "    print(\"v0*v1 = \", v0*v1)\n",
    "    print( \"s * (u0*v1+v0*u1) = \", s * (u0*v1+v0*u1))\n",
    "    print(\"s*s*u0*u1 = \", s*s*u0*u1)\n",
    "    print(\"num = \", num)\n",
    "    print(\"num.parent() = \",num.parent())\n",
    "    print(\"delta^2 = \", delta**2)\n",
    "    print(\"q =\", q)\n",
    "    return poly_round(num, delta**2)\n",
    "    "
   ]
  },
  {
   "cell_type": "code",
   "execution_count": 30,
   "id": "c940da30-7738-4c18-8e99-f43005472c06",
   "metadata": {},
   "outputs": [
    {
     "name": "stdout",
     "output_type": "stream",
     "text": [
      "s = 9*zeta^15 - 7*zeta^14 + 6*zeta^13 - 4*zeta^12 + 13*zeta^11 + 7*zeta^10 - 3*zeta^9 + 5*zeta^8 - 7*zeta^7 + 10*zeta^6 - 7*zeta^5 + 9*zeta^4 + 7*zeta^3 + 5*zeta^2 - 2*zeta - 1\n",
      "as + e + delta*m =  9*zeta^17 - 88*zeta^16 - 1485*zeta^15 + 1142*zeta^14 - 974*zeta^13 + 582*zeta^12 - 2307*zeta^11 - 1154*zeta^10 + 459*zeta^9 - 779*zeta^8 + 1101*zeta^7 - 1637*zeta^6 + 1139*zeta^5 - 1613*zeta^4 - 1233*zeta^3 - 827*zeta^2 + 357*zeta + 546\n",
      "s = 9*zeta^15 - 7*zeta^14 + 6*zeta^13 - 4*zeta^12 + 13*zeta^11 + 7*zeta^10 - 3*zeta^9 + 5*zeta^8 - 7*zeta^7 + 10*zeta^6 - 7*zeta^5 + 9*zeta^4 + 7*zeta^3 + 5*zeta^2 - 2*zeta - 1\n",
      "as + e + delta*m =  27*zeta^17 - 12*zeta^16 + 12*zeta^15 - zeta^14 + 32*zeta^13 + 22*zeta^12 - 11*zeta^11 - 6*zeta^10 - 18*zeta^9 + 32*zeta^8 - 4*zeta^7 + 22*zeta^6 + 17*zeta^5 + 29*zeta^4 - zeta^3 - 12*zeta^2 + 247\n",
      "u0 =  zeta^2 - 9*zeta - 172\n",
      "v0 =  9*zeta^17 - 88*zeta^16 - 1485*zeta^15 + 1142*zeta^14 - 974*zeta^13 + 582*zeta^12 - 2307*zeta^11 - 1154*zeta^10 + 459*zeta^9 - 779*zeta^8 + 1101*zeta^7 - 1637*zeta^6 + 1139*zeta^5 - 1613*zeta^4 - 1233*zeta^3 - 827*zeta^2 + 357*zeta + 546\n",
      "u1 =  3*zeta^2 + zeta\n",
      "v1 =  27*zeta^17 - 12*zeta^16 + 12*zeta^15 - zeta^14 + 32*zeta^13 + 22*zeta^12 - 11*zeta^11 - 6*zeta^10 - 18*zeta^9 + 32*zeta^8 - 4*zeta^7 + 22*zeta^6 + 17*zeta^5 + 29*zeta^4 - zeta^3 - 12*zeta^2 + 247\n",
      "v0*v1 =  243*zeta^34 - 2484*zeta^33 - 38931*zeta^32 + 47589*zeta^31 - 57446*zeta^30 + 39973*zeta^29 - 131658*zeta^28 + 9272*zeta^27 + 8632*zeta^26 - 42666*zeta^25 + 12457*zeta^24 - 222984*zeta^23 + 133806*zeta^22 - 146375*zeta^21 + 82703*zeta^20 - 150854*zeta^19 - 4680*zeta^18 - 30269*zeta^17 - 207867*zeta^16 - 400784*zeta^15 + 173231*zeta^14 - 73599*zeta^13 + 96324*zeta^12 - 571666*zeta^11 - 371621*zeta^10 + 85186*zeta^9 - 243796*zeta^8 + 215746*zeta^7 - 389652*zeta^6 + 316591*zeta^5 - 373010*zeta^4 - 309381*zeta^3 - 210821*zeta^2 + 88179*zeta + 134862\n",
      "s * (u0*v1+v0*u1) =  486*zeta^34 - 4968*zeta^33 - 77709*zeta^32 + 95257*zeta^31 - 113159*zeta^30 + 86115*zeta^29 - 273219*zeta^28 + 7483*zeta^27 + 12661*zeta^26 - 100197*zeta^25 + 40212*zeta^24 - 475395*zeta^23 + 246078*zeta^22 - 341579*zeta^21 + 125169*zeta^20 - 254346*zeta^19 - 16898*zeta^18 - 40807*zeta^17 - 445419*zeta^16 - 467307*zeta^15 + 42883*zeta^14 + 21108*zeta^13 + 56467*zeta^12 - 563534*zeta^11 - 410806*zeta^10 + 49981*zeta^9 - 332478*zeta^8 + 164696*zeta^7 - 389600*zeta^6 + 340965*zeta^5 - 364908*zeta^4 - 314909*zeta^3 - 213372*zeta^2 + 86645*zeta + 42484\n",
      "s*s*u0*u1 =  243*zeta^34 - 2484*zeta^33 - 38778*zeta^32 + 47668*zeta^31 - 55719*zeta^30 + 46108*zeta^29 - 141554*zeta^28 - 1656*zeta^27 + 4119*zeta^26 - 57514*zeta^25 + 27810*zeta^24 - 252666*zeta^23 + 111982*zeta^22 - 195226*zeta^21 + 42352*zeta^20 - 103422*zeta^19 - 12484*zeta^18 - 10402*zeta^17 - 237517*zeta^16 - 68340*zeta^15 - 129479*zeta^14 + 95352*zeta^13 - 43692*zeta^12 + 3426*zeta^11 - 41324*zeta^10 - 36800*zeta^9 - 83646*zeta^8 - 50040*zeta^7 + 3635*zeta^6 + 21630*zeta^5 + 8897*zeta^4 - 1094*zeta^3 - 1213*zeta^2 - 172*zeta\n",
      "num =  -6*zeta^30 - 34*zeta^29 + 7*zeta^28 + 133*zeta^27 + 90*zeta^26 + 17*zeta^25 + 55*zeta^24 - 255*zeta^23 - 290*zeta^22 - 22*zeta^21 - 114*zeta^20 + 70*zeta^19 - 266*zeta^18 + 136*zeta^17 + 35*zeta^16 - 1817*zeta^15 + 869*zeta^14 + 645*zeta^13 - 3835*zeta^12 - 4706*zeta^11 - 2139*zeta^10 - 1595*zeta^9 + 5036*zeta^8 + 1010*zeta^7 + 3583*zeta^6 - 2744*zeta^5 + 795*zeta^4 + 4434*zeta^3 + 1338*zeta^2 + 1362*zeta + 92378\n",
      "num.parent() =  Quotient of Univariate Polynomial Ring in x over Integer Ring by the ideal (x^16 + 1, 32768)\n",
      "delta^2 =  16384\n",
      "q = 32768\n"
     ]
    },
    {
     "data": {
      "text/plain": [
       "6"
      ]
     },
     "execution_count": 30,
     "metadata": {},
     "output_type": "execute_result"
    }
   ],
   "source": [
    "s = keygen()\n",
    "m0 = 3\n",
    "m1 = 2\n",
    "ct0 = enc(m0, s)\n",
    "ct1 = enc(m1, s)\n",
    "(u0, v0) = ct0\n",
    "(u1, v1) = ct1\n",
    "print(\"u0 = \", u0)\n",
    "print(\"v0 = \", v0)\n",
    "print(\"u1 = \", u1)\n",
    "print(\"v1 = \", v1)\n",
    "hom_prod_and_dec(ct0, ct1, s)"
   ]
  },
  {
   "cell_type": "code",
   "execution_count": null,
   "id": "733383a2",
   "metadata": {},
   "outputs": [],
   "source": []
  }
 ],
 "metadata": {
  "kernelspec": {
   "display_name": "SageMath 10.5",
   "language": "sage",
   "name": "SageMath-10.5"
  },
  "language_info": {
   "codemirror_mode": {
    "name": "ipython",
    "version": 3
   },
   "file_extension": ".py",
   "mimetype": "text/x-python",
   "name": "python",
   "nbconvert_exporter": "python",
   "pygments_lexer": "ipython3",
   "version": "3.12.5"
  }
 },
 "nbformat": 4,
 "nbformat_minor": 5
}
