{
 "cells": [
  {
   "cell_type": "code",
   "execution_count": 1,
   "id": "ab2fc896-fc7b-486b-9d63-437422b59b55",
   "metadata": {},
   "outputs": [],
   "source": [
    "from sage.stats.distributions.discrete_gaussian_polynomial import DiscreteGaussianDistributionPolynomialSampler\n",
    "\n",
    "n = 16\n",
    "q = 32768\n",
    "t = 256\n",
    "sigma = 8\n",
    "delta = q//t\n",
    "\n",
    "S.<x> = PolynomialRing(ZZ)\n",
    "R.<zeta> = S.quotient(S.ideal(x**(n) + 1, q))\n",
    "\n",
    "SampleSmallPoly = lambda :  R(DiscreteGaussianDistributionPolynomialSampler(ZZ['x'], n, sigma)())\n",
    "\n",
    "def round_to_nearest(x, delta):\n",
    "    # a // b = floor(a/b), where RHS is rational division\n",
    "    # (a + (b//2))//b ~ floor(a/b + 1/2) = round_to_nearest_int(a/b)\n",
    "    return (x + delta//2) // delta\n",
    "\n",
    "def poly_round(poly, delta):\n",
    "    return R(lift(poly).map_coefficients(lambda c: round_to_nearest(c, delta)))\n"
   ]
  },
  {
   "cell_type": "code",
   "execution_count": 2,
   "id": "ea6cbc48-7651-4c87-91d7-750f448b547f",
   "metadata": {},
   "outputs": [],
   "source": [
    "def keygen():\n",
    "    return SampleSmallPoly()\n",
    "\n",
    "def enc(m, s):\n",
    "    a = R.random_element()\n",
    "    e = SampleSmallPoly()\n",
    "    return (a, a*s + e + delta*m)\n",
    "\n",
    "def dec(ct, s):\n",
    "    (a, b) = ct\n",
    "    partial_dec = b - a * s\n",
    "    return R(partial_dec.lift().map_coefficients(lambda c: round_to_nearest(c, delta)))\n",
    "\n",
    "def hom_sum(ct0, ct1):\n",
    "    (a0, b0) = ct0\n",
    "    (a1, b1) = ct1\n",
    "    return (a0+a1, b0+b1)\n",
    "\n",
    "def hom_prod_and_dec(ct0, ct1, s):\n",
    "    (u0, v0) = ct0\n",
    "    (u1, v1) = ct1\n",
    "    num = v0*v1 - s * (u0*v1+v0*u1) + s*s*u0*u1\n",
    "    return poly_round(num, delta**2)\n",
    "    "
   ]
  },
  {
   "cell_type": "code",
   "execution_count": 8,
   "id": "c940da30-7738-4c18-8e99-f43005472c06",
   "metadata": {},
   "outputs": [
    {
     "data": {
      "text/plain": [
       "6"
      ]
     },
     "execution_count": 8,
     "metadata": {},
     "output_type": "execute_result"
    }
   ],
   "source": [
    "s = keygen()\n",
    "m0 = 3\n",
    "m1 = 2\n",
    "ct0 = enc(m0, s)\n",
    "ct1 = enc(m1, s)\n",
    "hom_prod_and_dec(ct0, ct1, s)"
   ]
  },
  {
   "cell_type": "code",
   "execution_count": null,
   "id": "6e202185",
   "metadata": {},
   "outputs": [],
   "source": []
  }
 ],
 "metadata": {
  "kernelspec": {
   "display_name": "SageMath 10.5",
   "language": "sage",
   "name": "SageMath-10.5"
  },
  "language_info": {
   "codemirror_mode": {
    "name": "ipython",
    "version": 3
   },
   "file_extension": ".py",
   "mimetype": "text/x-python",
   "name": "python",
   "nbconvert_exporter": "python",
   "pygments_lexer": "ipython3",
   "version": "3.12.5"
  }
 },
 "nbformat": 4,
 "nbformat_minor": 5
}
