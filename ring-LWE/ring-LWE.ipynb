{
 "cells": [
  {
   "cell_type": "code",
   "execution_count": 1,
   "id": "ffa1875c-45c2-43a9-993b-98142c7b56f9",
   "metadata": {},
   "outputs": [],
   "source": [
    "#https://blog.openmined.org/build-an-homomorphic-encryption-scheme-from-scratch-with-python/"
   ]
  },
  {
   "cell_type": "code",
   "execution_count": 2,
   "id": "e3f723a3-ef20-42f9-bf16-9a5e913a7499",
   "metadata": {},
   "outputs": [],
   "source": [
    "import numpy as np\n",
    "from numpy.polynomial import polynomial as poly"
   ]
  },
  {
   "cell_type": "code",
   "execution_count": 3,
   "id": "48477691-1aa8-45f1-8f04-17c41807df72",
   "metadata": {},
   "outputs": [],
   "source": [
    "def parameters():\n",
    "    # polynomial modulus degree\n",
    "    n = 2**4\n",
    "    # ciphertext modulus\n",
    "    q = 2**15\n",
    "    # plaintext modulus\n",
    "    t = 2**8\n",
    "    # polynomial modulus\n",
    "    poly_mod = np.array([1] + [0] * (n - 1) + [1])\n",
    "    return (n,q,t,poly_mod)"
   ]
  },
  {
   "cell_type": "code",
   "execution_count": 4,
   "id": "bc57f95d-1de3-4ddf-882e-ec7014053842",
   "metadata": {},
   "outputs": [],
   "source": [
    "def polymul(x, y, modulus, poly_mod):\n",
    "    \"\"\"Add two polynoms\n",
    "    Args:\n",
    "        x, y: two polynoms to be added.\n",
    "        modulus: coefficient modulus.\n",
    "        poly_mod: polynomial modulus.\n",
    "    Returns:\n",
    "        A polynomial in Z_modulus[X]/(poly_mod).\n",
    "    \"\"\"\n",
    "    return np.int64(\n",
    "        np.round(poly.polydiv(poly.polymul(x, y) % modulus, poly_mod)[1] % modulus)\n",
    "    )"
   ]
  },
  {
   "cell_type": "code",
   "execution_count": 5,
   "id": "7951c529-c199-4321-a282-30dc50a64fbd",
   "metadata": {},
   "outputs": [],
   "source": [
    "def polyadd(x, y, modulus, poly_mod):\n",
    "    \"\"\"Multiply two polynoms\n",
    "    Args:\n",
    "        x, y: two polynoms to be multiplied.\n",
    "        modulus: coefficient modulus.\n",
    "        poly_mod: polynomial modulus.\n",
    "    Returns:\n",
    "        A polynomial in Z_modulus[X]/(poly_mod).\n",
    "    \"\"\"\n",
    "    return np.int64(\n",
    "        np.round(poly.polydiv(poly.polyadd(x, y) % modulus, poly_mod)[1] % modulus)\n",
    "    )"
   ]
  },
  {
   "cell_type": "code",
   "execution_count": 6,
   "id": "ce6956d6-8338-4eee-b644-cbb77d439aad",
   "metadata": {},
   "outputs": [],
   "source": [
    "def gen_binary_poly(size):\n",
    "    \"\"\"Generates a polynomial with coeffecients in [0, 1]\n",
    "    Args:\n",
    "        size: number of coeffcients, size-1 being the degree of the\n",
    "            polynomial.\n",
    "    Returns:\n",
    "        array of coefficients with the coeff[i] being \n",
    "        the coeff of x ^ i.\n",
    "    \"\"\"\n",
    "    return np.random.randint(0, 2, size, dtype=np.int64)"
   ]
  },
  {
   "cell_type": "code",
   "execution_count": 7,
   "id": "72d136c7-6d1a-405c-8b94-673783c7f26c",
   "metadata": {},
   "outputs": [],
   "source": [
    "def gen_uniform_poly(size, modulus):\n",
    "    \"\"\"Generates a polynomial with coeffecients being integers in Z_modulus\n",
    "    Args:\n",
    "        size: number of coeffcients, size-1 being the degree of the\n",
    "            polynomial.\n",
    "    Returns:\n",
    "        array of coefficients with the coeff[i] being \n",
    "        the coeff of x ^ i.\n",
    "    \"\"\"\n",
    "    return np.random.randint(0, modulus, size, dtype=np.int64)"
   ]
  },
  {
   "cell_type": "code",
   "execution_count": 8,
   "id": "38cfa83c-2f68-4a00-8b9c-4cd5a5647d58",
   "metadata": {},
   "outputs": [],
   "source": [
    "def gen_normal_poly(size):\n",
    "    \"\"\"Generates a polynomial with coeffecients in a normal distribution\n",
    "    of mean 0 and a standard deviation of 2, then discretize it.\n",
    "    Args:\n",
    "        size: number of coeffcients, size-1 being the degree of the\n",
    "            polynomial.\n",
    "    Returns:\n",
    "        array of coefficients with the coeff[i] being \n",
    "        the coeff of x ^ i.\n",
    "    \"\"\"\n",
    "    return np.int64(np.random.normal(0, 2, size=size))"
   ]
  },
  {
   "cell_type": "code",
   "execution_count": 9,
   "id": "1f266437-d52d-48b2-9ef9-e5c2eec17990",
   "metadata": {},
   "outputs": [],
   "source": [
    "def keygen(size, modulus, poly_mod):\n",
    "    \"\"\"Generate a public and secret keys\n",
    "    Args:\n",
    "        size: size of the polynoms for the public and secret keys.\n",
    "        modulus: coefficient modulus.\n",
    "        poly_mod: polynomial modulus.\n",
    "    Returns:\n",
    "        Public and secret key.\n",
    "    \"\"\"\n",
    "    sk = gen_binary_poly(size)\n",
    "    a = gen_uniform_poly(size, modulus)\n",
    "    e = gen_normal_poly(size)\n",
    "    b = polyadd(polymul(-a, sk, modulus, poly_mod), -e, modulus, poly_mod)\n",
    "    return (b, a), sk"
   ]
  },
  {
   "cell_type": "code",
   "execution_count": 10,
   "id": "46abff76-712f-4c7d-933e-c02bd21fb192",
   "metadata": {},
   "outputs": [],
   "source": [
    "def encrypt(pk, size, q, t, poly_mod, pt):\n",
    "    \"\"\"Encrypt an integer.\n",
    "    Args:\n",
    "        pk: public-key.\n",
    "        size: size of polynomials.\n",
    "        q: ciphertext modulus.\n",
    "        t: plaintext modulus.\n",
    "        poly_mod: polynomial modulus.\n",
    "        pt: integer to be encrypted.\n",
    "    Returns:\n",
    "        Tuple representing a ciphertext.      \n",
    "    \"\"\"\n",
    "    # encode pt into a plaintext polynomial if pt is an int, otherwise encode as a full polynomial\n",
    "    if isinstance(pt,int):\n",
    "        m = np.array([pt] + [0] * (size - 1), dtype=np.int64) % t\n",
    "    elif isinstance(pt,list):\n",
    "        m = np.array(pt,dtype = np.int64) % t\n",
    "        m.resize(n)\n",
    "    else:\n",
    "        print(\"pt should be int or list of ints\")\n",
    "        \n",
    "    delta = q // t\n",
    "    scaled_m = delta * m  % q\n",
    "    e1 = gen_normal_poly(size)\n",
    "    e2 = gen_normal_poly(size)\n",
    "    u = gen_binary_poly(size)\n",
    "    ct0 = polyadd(\n",
    "            polyadd(\n",
    "                polymul(pk[0], u, q, poly_mod),\n",
    "                e1, q, poly_mod),\n",
    "            scaled_m, q, poly_mod\n",
    "        )\n",
    "    ct1 = polyadd(\n",
    "            polymul(pk[1], u, q, poly_mod),\n",
    "            e2, q, poly_mod\n",
    "        )\n",
    "    return (ct0, ct1)"
   ]
  },
  {
   "cell_type": "code",
   "execution_count": 11,
   "id": "1974776e-2774-4321-a739-bfebccf37b0d",
   "metadata": {},
   "outputs": [],
   "source": [
    "def decrypt(sk, size, q, t, poly_mod, ct):\n",
    "    \"\"\"Decrypt a ciphertext\n",
    "    Args:\n",
    "        sk: secret-key.\n",
    "        size: size of polynomials.\n",
    "        q: ciphertext modulus.\n",
    "        t: plaintext modulus.\n",
    "        poly_mod: polynomial modulus.\n",
    "        ct: ciphertext.\n",
    "    Returns:\n",
    "        Integer representing the plaintext.\n",
    "    \"\"\"\n",
    "    scaled_pt = polyadd(\n",
    "            polymul(ct[1], sk, q, poly_mod),\n",
    "            ct[0], q, poly_mod\n",
    "        )\n",
    "    decrypted_poly = np.round(scaled_pt * t / q) % t\n",
    "    #return int(decrypted_poly[0])\n",
    "    return decrypted_poly"
   ]
  },
  {
   "cell_type": "code",
   "execution_count": 12,
   "id": "efe95f9f-a403-481c-aa62-a0cb897fe089",
   "metadata": {},
   "outputs": [],
   "source": [
    "def add_plain(ct, pt, q, t, poly_mod):\n",
    "    \"\"\"Add a ciphertext and a plaintext.\n",
    "    Args:\n",
    "        ct: ciphertext.\n",
    "        pt: integer to add.\n",
    "        q: ciphertext modulus.\n",
    "        t: plaintext modulus.\n",
    "        poly_mod: polynomial modulus.\n",
    "    Returns:\n",
    "        Tuple representing a ciphertext.\n",
    "    \"\"\"\n",
    "    size = len(poly_mod) - 1\n",
    "    # encode the integer into a plaintext polynomial\n",
    "    m = np.array([pt] + [0] * (size - 1), dtype=np.int64) % t\n",
    "    delta = q // t\n",
    "    scaled_m = delta * m  % q\n",
    "    new_ct0 = polyadd(ct[0], scaled_m, q, poly_mod)\n",
    "    return (new_ct0, ct[1])"
   ]
  },
  {
   "cell_type": "code",
   "execution_count": 13,
   "id": "accbdb86-50a8-4f7c-bfa7-c98c5607fe13",
   "metadata": {},
   "outputs": [],
   "source": [
    "def mul_plain(ct, pt, q, t, poly_mod):\n",
    "    \"\"\"Multiply a ciphertext and a plaintext.\n",
    "    Args:\n",
    "        ct: ciphertext.\n",
    "        pt: integer to multiply.\n",
    "        q: ciphertext modulus.\n",
    "        t: plaintext modulus.\n",
    "        poly_mod: polynomial modulus.\n",
    "    Returns:\n",
    "        Tuple representing a ciphertext.\n",
    "    \"\"\"\n",
    "    size = len(poly_mod) - 1\n",
    "    # encode the integer into a plaintext polynomial\n",
    "    m = np.array([pt] + [0] * (size - 1), dtype=np.int64) % t\n",
    "    new_c0 = polymul(ct[0], m, q, poly_mod)\n",
    "    new_c1 = polymul(ct[1], m, q, poly_mod)\n",
    "    return (new_c0, new_c1)"
   ]
  },
  {
   "cell_type": "code",
   "execution_count": 14,
   "id": "4f5e6719-a460-4fd6-b33e-9ee082e5b6d7",
   "metadata": {},
   "outputs": [
    {
     "name": "stdout",
     "output_type": "stream",
     "text": [
      "[+] Ciphertext ct1(73):\n",
      "\n",
      "\t ct1_0: [17929  4651  2765  2062 11245  8460  2473 26199 18634 17682 21757  5765\n",
      " 19648 17475 29005 27666]\n",
      "\t ct1_1: [12805 15095  8297 21781  5575 25720 16474 11637 14120 26906    73 14738\n",
      " 25975  5965 31165 30425]\n",
      "\n",
      "[+] Ciphertext ct2(20):\n",
      "\n",
      "\t ct2_0: [19672 29202 15067 11567  2142 12692 22704 31280 28637 16967 21764 17705\n",
      " 22408 30280 12905 10566]\n",
      "\t ct2_1: [30984 26634 19126 21943 25718 13489 17147 13782 13618 13884 30109  9600\n",
      " 21453 16683  9729  4315]\n",
      "\n",
      "[+] Decrypted ct3=(ct1 + 7): [80.  0.  0.  0.  0.  0.  0.  0.  0.  0.  0.  0.  0.  0.  0.  0.]\n",
      "[+] Decrypted ct4=(ct2 * 5): [100.   0.   0.   0.   0.   0.   0.   0.   0.   0.   0.   0.   0.   0.\n",
      "   0.   0.]\n"
     ]
    }
   ],
   "source": [
    "n, q, t, poly_mod = parameters()\n",
    "# Keygen\n",
    "pk, sk = keygen(n, q, poly_mod)\n",
    "# Encryption\n",
    "pt1, pt2 = 73, 20\n",
    "cst1, cst2 = 7, 5\n",
    "ct1 = encrypt(pk, n, q, t, poly_mod, pt1)\n",
    "ct2 = encrypt(pk, n, q, t, poly_mod, pt2)\n",
    "\n",
    "print(\"[+] Ciphertext ct1({}):\".format(pt1))\n",
    "print(\"\")\n",
    "print(\"\\t ct1_0:\", ct1[0])\n",
    "print(\"\\t ct1_1:\", ct1[1])\n",
    "print(\"\")\n",
    "print(\"[+] Ciphertext ct2({}):\".format(pt2))\n",
    "print(\"\")\n",
    "print(\"\\t ct2_0:\", ct2[0])\n",
    "print(\"\\t ct2_1:\", ct2[1])\n",
    "print(\"\")\n",
    "\n",
    "# Evaluation\n",
    "ct3 = add_plain(ct1, cst1, q, t, poly_mod)\n",
    "ct4 = mul_plain(ct2, cst2, q, t, poly_mod)\n",
    "\n",
    "# Decryption\n",
    "decrypted_ct3 = decrypt(sk, n, q, t, poly_mod, ct3)\n",
    "decrypted_ct4 = decrypt(sk, n, q, t, poly_mod, ct4)\n",
    "\n",
    "print(\"[+] Decrypted ct3=(ct1 + {}): {}\".format(cst1, decrypted_ct3))\n",
    "print(\"[+] Decrypted ct4=(ct2 * {}): {}\".format(cst2, decrypted_ct4))"
   ]
  },
  {
   "cell_type": "code",
   "execution_count": 15,
   "id": "e71c3f4c-3f8f-4b7b-99b2-db3b733e2cc1",
   "metadata": {},
   "outputs": [
    {
     "data": {
      "text/plain": [
       "[5, 3, 6, 4, 15, 13, 7, 16, 5]"
      ]
     },
     "execution_count": 15,
     "metadata": {},
     "output_type": "execute_result"
    }
   ],
   "source": [
    "import random\n",
    "message = [random.randint(0,20) for i in range(9)]; message"
   ]
  },
  {
   "cell_type": "code",
   "execution_count": 16,
   "id": "b34535d4-e487-47e3-876f-5e4c78931c2d",
   "metadata": {},
   "outputs": [
    {
     "data": {
      "text/plain": [
       "(array([15135, 12639, 16548, 14307, 19238, 32172, 19787, 29622, 27555,\n",
       "        17246, 25456, 19666,  3569, 29193, 29962,  3616]),\n",
       " array([27773, 26142, 10042, 16703, 22756, 18741, 12753, 16358, 24350,\n",
       "         8105,  5080,   646, 20688,  8558, 31528, 31729]))"
      ]
     },
     "execution_count": 16,
     "metadata": {},
     "output_type": "execute_result"
    }
   ],
   "source": [
    "ct = encrypt(pk, n, q, t, poly_mod, message); ct"
   ]
  },
  {
   "cell_type": "code",
   "execution_count": 17,
   "id": "ed5a260b-9a78-42de-8b73-5e75e634005c",
   "metadata": {},
   "outputs": [
    {
     "data": {
      "text/plain": [
       "array([ 5.,  3.,  6.,  4., 15., 13.,  7., 16.,  5.,  0.,  0.,  0.,  0.,\n",
       "        0.,  0.,  0.])"
      ]
     },
     "execution_count": 17,
     "metadata": {},
     "output_type": "execute_result"
    }
   ],
   "source": [
    "plaintext = decrypt(sk, n, q, t, poly_mod, ct); plaintext"
   ]
  },
  {
   "cell_type": "code",
   "execution_count": null,
   "id": "36e84af7-0ea9-4919-8f0d-ef9301fafdc8",
   "metadata": {},
   "outputs": [],
   "source": []
  }
 ],
 "metadata": {
  "kernelspec": {
   "display_name": "cryptography",
   "language": "python",
   "name": "cryptography"
  },
  "language_info": {
   "codemirror_mode": {
    "name": "ipython",
    "version": 3
   },
   "file_extension": ".py",
   "mimetype": "text/x-python",
   "name": "python",
   "nbconvert_exporter": "python",
   "pygments_lexer": "ipython3",
   "version": "3.10.4"
  }
 },
 "nbformat": 4,
 "nbformat_minor": 5
}
