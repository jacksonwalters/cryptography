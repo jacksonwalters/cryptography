{
 "cells": [
  {
   "cell_type": "code",
   "execution_count": 1,
   "id": "967f60ee-33b5-4797-8274-2f92d0907220",
   "metadata": {},
   "outputs": [],
   "source": [
    "#https://pypi.org/project/kyber-py/"
   ]
  },
  {
   "cell_type": "code",
   "execution_count": 1,
   "id": "e819e78f-2f92-4703-9b09-393b42ac2cd0",
   "metadata": {},
   "outputs": [],
   "source": [
    "from kyber import Kyber512\n",
    "pk, sk = Kyber512.keygen()\n",
    "c, key = Kyber512.enc(pk)\n",
    "_key = Kyber512.dec(c, sk)\n",
    "assert key == _key"
   ]
  }
 ],
 "metadata": {
  "kernelspec": {
   "display_name": "cryptography",
   "language": "python",
   "name": "cryptography"
  },
  "language_info": {
   "codemirror_mode": {
    "name": "ipython",
    "version": 3
   },
   "file_extension": ".py",
   "mimetype": "text/x-python",
   "name": "python",
   "nbconvert_exporter": "python",
   "pygments_lexer": "ipython3",
   "version": "3.10.0"
  }
 },
 "nbformat": 4,
 "nbformat_minor": 5
}
